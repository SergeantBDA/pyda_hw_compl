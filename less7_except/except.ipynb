{
 "cells": [
  {
   "cell_type": "markdown",
   "metadata": {},
   "source": [
    "[Ссылка на домашнее ДЗ  «Исключения и обработка ошибок»](https://netology.ru/profile/program/pyda-15/lessons/44586/lesson_items/204446)"
   ]
  },
  {
   "cell_type": "markdown",
   "metadata": {},
   "source": [
    "##### Задание 1\n",
    "\n",
    "Печатные газеты использовали свой формат дат для каждого выпуска. Для каждой газеты из списка напишите формат указанной даты для перевода в объект datetime:\n",
    "- The Moscow Times - Wednesday, October 2, 2002\n",
    "- The Guardian - Friday, 11.10.13\n",
    "- Daily News - Thursday, 18 August 1977"
   ]
  },
  {
   "cell_type": "code",
   "execution_count": 83,
   "metadata": {},
   "outputs": [],
   "source": [
    "import datetime as dt\n",
    "import random\n",
    "from ipywidgets import DatePicker, Dropdown"
   ]
  },
  {
   "cell_type": "code",
   "execution_count": 2,
   "metadata": {},
   "outputs": [
    {
     "name": "stdout",
     "output_type": "stream",
     "text": [
      "['The Moscow Times', 'Wednesday, October 2, 2002'] 2002-10-02 00:00:00\n",
      "['The Guardian', 'Friday, 11.10.13'] 2013-10-11 00:00:00\n",
      "['Daily News', 'Thursday, 18 August 1977'] 1977-08-18 00:00:00\n"
     ]
    }
   ],
   "source": [
    "#Решение по заданию 1\n",
    "\n",
    "format_dt_news = [['The Moscow Times', 'Wednesday, October 2, 2002'],\n",
    "                  ['The Guardian',     'Friday, 11.10.13'],\n",
    "                  ['Daily News',       'Thursday, 18 August 1977']]\n",
    "\n",
    "#MT = dt.datetime.strptime('Wednesday, October 2, 2002', '%A, %B %d, %Y')\n",
    "\n",
    "# #Вариант 1\n",
    "# def to_date_MT(str_dt):\n",
    "#     return(dt.datetime.strptime(str_dt, '%A, %B %d, %Y'))\n",
    "\n",
    "# def to_date_TG(str_dt):\n",
    "#     return(dt.datetime.strptime(str_dt, '%A, %d.%m.%y'))\n",
    "\n",
    "# def to_date_DN(str_dt):\n",
    "#     return(dt.datetime.strptime(str_dt, '%A, %d %B %Y'))\n",
    "\n",
    "# didt_to_dt = {'The Moscow Times':to_date_MT,\n",
    "#               'The Guardian':to_date_TG,\n",
    "#               'Daily News':to_date_DN}\n",
    "\n",
    "# for news_ in format_dt_news:\n",
    "#     print(news_, didt_to_dt[news_[0]](news_[1]))\n",
    "    \n",
    "#Вариант 2\n",
    "news_to_dt = {'The Moscow Times':'%A, %B %d, %Y',\n",
    "              'The Guardian':'%A, %d.%m.%y',\n",
    "              'Daily News':'%A, %d %B %Y'}\n",
    "\n",
    "for news_ in format_dt_news:\n",
    "    print(news_, dt.datetime.strptime(news_[1], news_to_dt[news_[0]]))\n"
   ]
  },
  {
   "cell_type": "markdown",
   "metadata": {},
   "source": [
    "##### Задание 2\n",
    "\n",
    "Дан поток дат в формате YYYY-MM-DD, в которых встречаются некорректные значения:\n",
    "stream = [‘2018-04-02’, ‘2018-02-29’, ‘2018-19-02’]\n",
    "\n",
    "Напишите функцию, которая проверяет эти даты на корректность. Т. е. для каждой даты возвращает True (дата корректна) или False (некорректная дата)."
   ]
  },
  {
   "cell_type": "code",
   "execution_count": 3,
   "metadata": {
    "scrolled": false
   },
   "outputs": [
    {
     "name": "stdout",
     "output_type": "stream",
     "text": [
      "Начать проверку потока (y - Да, Нет - все остальное):y\n",
      "Дата в формате YYYY-MM-DD: 1444-08-12, Результат: True (дата корректна)\n",
      "\n",
      "Продолжить проверку потока (Y - Да, Нет - все остальное):y\n",
      "Дата в формате YYYY-MM-DD: 1926-17-20, Результат: False (некорректная дата)\n",
      "\n",
      "Продолжить проверку потока (Y - Да, Нет - все остальное):w\n"
     ]
    }
   ],
   "source": [
    "#Решение по заданию 2\n",
    "\n",
    "rez = ['True (дата корректна)', 'False (некорректная дата)']\n",
    "\n",
    "#вспомогательная функция для формирования строки даты в формате YYYY-MM-DD\n",
    "def str_dt(y,m,d):\n",
    "    def infron_zer(value, max_len):\n",
    "        str_ = str(value)\n",
    "        return ('0'*(max_len - len(str_)) + str_)\n",
    "        \n",
    "    return(f'{str(y)}-{infron_zer(m, 2)}-{infron_zer(d, 2)}')\n",
    "\n",
    "#Проверка \n",
    "def check_dt(str_dt_in):\n",
    "    return_val = 0\n",
    "    try:\n",
    "        dt.datetime.strptime(str_dt_in, '%Y-%m-%d')\n",
    "    except ValueError:\n",
    "        return_val = 1\n",
    "    return return_val\n",
    "\n",
    "start = input('Начать проверку потока (y - Да, Нет - все остальное):')\n",
    "while (start.upper()[0] in ['Н', 'Y']):\n",
    "    year_  = random.randint(1001,2020)\n",
    "    month_ = random.randint(1,18)\n",
    "    day_   = random.randint(1,39)\n",
    "    dt_ = str_dt(year_, month_, day_)\n",
    "    print(f'Дата в формате YYYY-MM-DD: {dt_}, Результат: {rez[check_dt(dt_)]}')\n",
    "    start = input('\\nПродолжить проверку потока (Y - Да, Нет - все остальное):')\n",
    "    "
   ]
  },
  {
   "cell_type": "markdown",
   "metadata": {},
   "source": [
    "##### Задание 3\n",
    "\n",
    "Напишите функцию date_range, которая возвращает список дат за период от start_date до end_date. Даты должны вводиться в формате YYYY-MM-DD. В случае неверного формата или при start_date > end_date должен возвращаться пустой список."
   ]
  },
  {
   "cell_type": "code",
   "execution_count": 101,
   "metadata": {
    "scrolled": true
   },
   "outputs": [
    {
     "name": "stdout",
     "output_type": "stream",
     "text": [
      "По годам: ['2019-12-31', '2020-12-31', '2021-12-31', '2022-12-31', '2023-12-31', '2024-12-31', '2025-12-31', '2026-12-31', '2027-12-31', '2028-12-31', '2029-12-31', '2030-12-31', '2030-12-31']\n",
      "\n",
      "По месяцам: ['2019-12-31', '2020-01-31', '2020-02-29', '2020-03-31', '2020-04-30', '2020-05-31', '2020-06-30', '2020-07-31', '2020-08-31', '2020-09-30', '2020-10-31', '2020-11-30', '2020-12-31', '2021-01-31', '2021-02-28', '2021-03-31', '2021-03-31']\n",
      "\n",
      "По дням: ['2020-02-20', '2020-02-21', '2020-02-22', '2020-02-23', '2020-02-24', '2020-02-25', '2020-02-26', '2020-02-27', '2020-02-28', '2020-02-29', '2020-03-01', '2020-03-02', '2020-03-03', '2020-03-04', '2020-03-05', '2020-03-06', '2020-03-07', '2020-03-08', '2020-03-09', '2020-03-10', '2020-03-10']\n",
      "\n"
     ]
    }
   ],
   "source": [
    "#Решение по заданию 3\n",
    "\n",
    "def add_year(dt_, cnt):\n",
    "    return(dt.datetime(dt_.year + cnt, dt_.month, dt_.day))\n",
    "\n",
    "def sub_add_mon(mon, cnt):\n",
    "    mon_  = mon - 1 + cnt\n",
    "    year_ = mon_//12\n",
    "    mon_  = mon_%12 + 1\n",
    "    return [year_, mon_]\n",
    "    \n",
    "def add_month_dt(dt_, cnt):\n",
    "    month_ = sub_add_mon(dt_.month, cnt)[1]   \n",
    "    year_  = dt_.year + sub_add_mon(dt_.month, cnt)[0]       \n",
    "    day_   = min( dt_.day,  \\\n",
    "                 (dt.datetime(dt_.year + sub_add_mon(dt_.month, cnt + 1)[0], sub_add_mon(dt_.month, cnt + 1)[1], 1) \\\n",
    "                  + dt.timedelta(days=-1)).day)\n",
    "    return dt.datetime(year_, month_, day_)\n",
    "\n",
    "def add_day(dt_, cnt):\n",
    "    return(dt_ + dt.timedelta(days = cnt))\n",
    "\n",
    "func_add_one = {'year':add_year,  'month':add_month_dt, 'day':add_day}\n",
    "\n",
    "def date_range(start_date, end_date, part):\n",
    "#part - year, month, day\n",
    "    list_ = []\n",
    "    i = 0\n",
    "    element_dt = start_date\n",
    "    while end_date >= element_dt:\n",
    "        list_.append(dt.datetime.strftime(element_dt, '%Y-%m-%d'))\n",
    "        i += 1\n",
    "        element_dt = func_add_one[part](start_date, i)\n",
    "        if end_date < element_dt:\n",
    "            list_.append(dt.datetime.strftime(end_date, '%Y-%m-%d'))\n",
    "    return(list_)\n",
    "\n",
    "print(f'По годам: {date_range(dt.datetime(2019, 12, 31), dt.datetime(2030, 12, 31), \"year\")}\\n')\n",
    "print(f'По месяцам: {date_range(dt.datetime(2019, 12, 31), dt.datetime(2021, 3, 31), \"month\")}\\n')\n",
    "print(f'По дням: {date_range(dt.datetime(2020, 2, 20), dt.datetime(2020, 3, 10), \"day\")}\\n')\n",
    "\n"
   ]
  },
  {
   "cell_type": "code",
   "execution_count": 102,
   "metadata": {},
   "outputs": [
    {
     "data": {
      "application/vnd.jupyter.widget-view+json": {
       "model_id": "eed24869ff6b47f5a855c693d7ceb628",
       "version_major": 2,
       "version_minor": 0
      },
      "text/plain": [
       "DatePicker(value=None, description='Начало интервала:')"
      ]
     },
     "metadata": {},
     "output_type": "display_data"
    },
    {
     "data": {
      "application/vnd.jupyter.widget-view+json": {
       "model_id": "97d4cf74fbd24439a7860cdd138fe1ca",
       "version_major": 2,
       "version_minor": 0
      },
      "text/plain": [
       "DatePicker(value=None, description='Окончание интервала:')"
      ]
     },
     "metadata": {},
     "output_type": "display_data"
    },
    {
     "data": {
      "application/vnd.jupyter.widget-view+json": {
       "model_id": "2bd65060b29f4507886890b6a53eff5c",
       "version_major": 2,
       "version_minor": 0
      },
      "text/plain": [
       "Dropdown(description='Промежуток:', options=('year', 'month', 'day'), value='year')"
      ]
     },
     "metadata": {},
     "output_type": "display_data"
    },
    {
     "name": "stdout",
     "output_type": "stream",
     "text": [
      "\n",
      " month\n",
      "['2020-11-01', '2020-12-01', '2020-12-30']\n",
      "\n",
      " day\n",
      "['2020-11-01', '2020-11-02', '2020-11-03', '2020-11-04', '2020-11-05', '2020-11-06', '2020-11-07', '2020-11-08', '2020-11-09', '2020-11-10', '2020-11-11', '2020-11-12', '2020-11-13', '2020-11-14', '2020-11-15', '2020-11-16', '2020-11-17', '2020-11-18', '2020-11-19', '2020-11-20', '2020-11-21', '2020-11-22', '2020-11-23', '2020-11-24', '2020-11-25', '2020-11-26', '2020-11-27', '2020-11-28', '2020-11-29', '2020-11-30', '2020-12-01', '2020-12-02', '2020-12-03', '2020-12-04', '2020-12-05', '2020-12-06', '2020-12-07', '2020-12-08', '2020-12-09', '2020-12-10', '2020-12-11', '2020-12-12', '2020-12-13', '2020-12-14', '2020-12-15', '2020-12-16', '2020-12-17', '2020-12-18', '2020-12-19', '2020-12-20', '2020-12-21', '2020-12-22', '2020-12-23', '2020-12-24', '2020-12-25', '2020-12-26', '2020-12-27', '2020-12-28', '2020-12-29', '2020-12-30', '2020-12-30']\n",
      "\n",
      " year\n",
      "['2020-11-01', '2020-12-30']\n"
     ]
    }
   ],
   "source": [
    "#Демонстрация решения по аданию 3\n",
    "dPicker_beg = DatePicker(description = 'Начало интервала:')\n",
    "dPicker_end = DatePicker(description = 'Окончание интервала:')\n",
    "ddPart      = Dropdown(options = ['year', 'month', 'day'], description = 'Промежуток:')\n",
    "\n",
    "def on_change_ddPart(b):\n",
    "    if (dPicker_beg.value is not None) and (dPicker_end.value is not None):\n",
    "        print('\\n',b['new'])\n",
    "        print(date_range(dt.datetime(dPicker_beg.value.year, dPicker_beg.value.month, dPicker_beg.value.day), \\\n",
    "                         dt.datetime(dPicker_end.value.year, dPicker_end.value.month, dPicker_end.value.day), b['new']) )\n",
    "\n",
    "ddPart.observe(on_change_ddPart, names = 'value')\n",
    "\n",
    "display(dPicker_beg)\n",
    "display(dPicker_end)\n",
    "display(ddPart)\n"
   ]
  },
  {
   "cell_type": "code",
   "execution_count": 109,
   "metadata": {},
   "outputs": [],
   "source": [
    "#Задание 4 (бонусное)\n",
    "#Ваш коллега прислал код функции:\n",
    "\n",
    "DEFAULT_USER_COUNT = 3\n",
    "\n",
    "def delete_and_return_last_user(region, default_list=['A100', 'A101', 'A102']):\n",
    "###Удаляет из списка default_list последнего пользователя\n",
    "###и возвращает ID нового последнего пользователя.\n",
    "    element_to_delete = default_list[-1]\n",
    "    default_list.remove(element_to_delete)\n",
    "    print(default_list)\n",
    "    return default_list[DEFAULT_USER_COUNT-2]"
   ]
  },
  {
   "cell_type": "code",
   "execution_count": 110,
   "metadata": {},
   "outputs": [
    {
     "name": "stdout",
     "output_type": "stream",
     "text": [
      "['A100', 'A101']\n"
     ]
    },
    {
     "data": {
      "text/plain": [
       "'A101'"
      ]
     },
     "execution_count": 110,
     "metadata": {},
     "output_type": "execute_result"
    }
   ],
   "source": [
    "#При однократном вызове этой функции все работает корректно:\n",
    "delete_and_return_last_user(1)\n"
   ]
  },
  {
   "cell_type": "code",
   "execution_count": 111,
   "metadata": {
    "scrolled": true
   },
   "outputs": [
    {
     "name": "stdout",
     "output_type": "stream",
     "text": [
      "['A100']\n"
     ]
    },
    {
     "ename": "IndexError",
     "evalue": "list index out of range",
     "output_type": "error",
     "traceback": [
      "\u001b[1;31m---------------------------------------------------------------------------\u001b[0m",
      "\u001b[1;31mIndexError\u001b[0m                                Traceback (most recent call last)",
      "\u001b[1;32m<ipython-input-111-12f2f64b8df1>\u001b[0m in \u001b[0;36m<module>\u001b[1;34m\u001b[0m\n\u001b[0;32m      1\u001b[0m \u001b[1;31m#При втором вызове работает НЕ корректно:\u001b[0m\u001b[1;33m\u001b[0m\u001b[1;33m\u001b[0m\u001b[1;33m\u001b[0m\u001b[0m\n\u001b[1;32m----> 2\u001b[1;33m \u001b[0mdelete_and_return_last_user\u001b[0m\u001b[1;33m(\u001b[0m\u001b[1;36m1\u001b[0m\u001b[1;33m)\u001b[0m\u001b[1;33m\u001b[0m\u001b[1;33m\u001b[0m\u001b[0m\n\u001b[0m",
      "\u001b[1;32m<ipython-input-109-9ecafa30f0f1>\u001b[0m in \u001b[0;36mdelete_and_return_last_user\u001b[1;34m(region, default_list)\u001b[0m\n\u001b[0;32m     10\u001b[0m     \u001b[0mdefault_list\u001b[0m\u001b[1;33m.\u001b[0m\u001b[0mremove\u001b[0m\u001b[1;33m(\u001b[0m\u001b[0melement_to_delete\u001b[0m\u001b[1;33m)\u001b[0m\u001b[1;33m\u001b[0m\u001b[1;33m\u001b[0m\u001b[0m\n\u001b[0;32m     11\u001b[0m     \u001b[0mprint\u001b[0m\u001b[1;33m(\u001b[0m\u001b[0mdefault_list\u001b[0m\u001b[1;33m)\u001b[0m\u001b[1;33m\u001b[0m\u001b[1;33m\u001b[0m\u001b[0m\n\u001b[1;32m---> 12\u001b[1;33m     \u001b[1;32mreturn\u001b[0m \u001b[0mdefault_list\u001b[0m\u001b[1;33m[\u001b[0m\u001b[0mDEFAULT_USER_COUNT\u001b[0m\u001b[1;33m-\u001b[0m\u001b[1;36m2\u001b[0m\u001b[1;33m]\u001b[0m\u001b[1;33m\u001b[0m\u001b[1;33m\u001b[0m\u001b[0m\n\u001b[0m",
      "\u001b[1;31mIndexError\u001b[0m: list index out of range"
     ]
    }
   ],
   "source": [
    "#При втором вызове работает НЕ корректно:\n",
    "delete_and_return_last_user(1)"
   ]
  },
  {
   "cell_type": "markdown",
   "metadata": {},
   "source": [
    "- Что значит ошибка list index out of range?\n",
    "- Почему при первом запуске функция работает корректно, а при втором - нет?"
   ]
  },
  {
   "cell_type": "markdown",
   "metadata": {},
   "source": [
    "##### Решение по заданию 4\n",
    "\n",
    "1. Ошибка 'list index out of range' означает обращение к индексу который выходит за пределы доступного диапозона.\n",
    "2. Список по умолчанию (default_list) содержит 3 значения, после первого обращения из списка удаляется последний элемент остается 2 значения и выводится элемент с индексом 1 (DEFAULT_USER_COUNT - 2), после второго вызова остается 1 значение c индексом 0, вывод элемента с индексом 1 невозможен. "
   ]
  }
 ],
 "metadata": {
  "kernelspec": {
   "display_name": "Python 3",
   "language": "python",
   "name": "python3"
  },
  "language_info": {
   "codemirror_mode": {
    "name": "ipython",
    "version": 3
   },
   "file_extension": ".py",
   "mimetype": "text/x-python",
   "name": "python",
   "nbconvert_exporter": "python",
   "pygments_lexer": "ipython3",
   "version": "3.8.3"
  }
 },
 "nbformat": 4,
 "nbformat_minor": 4
}
