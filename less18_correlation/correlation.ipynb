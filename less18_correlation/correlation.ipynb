{
 "cells": [
  {
   "cell_type": "markdown",
   "metadata": {},
   "source": [
    "##### Домашнее задание к лекции «Корреляция и корреляционный анализ»\n",
    "###### 1 Задание. Ответить на вопрос есть ли связь между жёсткостью воды и средней годовой смертностью?\n",
    "\n",
    "- Построить точечный график\n",
    "- Рассчитать коэффициенты корреляции Пирсона и Спирмена\n",
    "- Построить модель линейной регрессии\n",
    "- Рассчитать коэффициент детерминации\n",
    "- Вывести график остатков\n",
    "\n",
    "###### 2 Задание. Сохраняется ли аналогичная зависимость для северных и южных городов по отдельности?\n",
    "\n",
    "- Разделить данные на 2 группы\n",
    "- Повторить аналогичные шаги из пункта 1 для каждой группы по отдельности"
   ]
  },
  {
   "cell_type": "markdown",
   "metadata": {},
   "source": [
    "###### Решенние по 1. Задания."
   ]
  },
  {
   "cell_type": "code",
   "execution_count": null,
   "metadata": {},
   "outputs": [],
   "source": [
    "# Импорт библиотек\n",
    "import pandas as pd\n",
    "import matplotlib.pyplot as plt\n",
    "import matplotlib.ticker as ticker\n",
    "\n",
    "from sklearn.linear_model    import LinearRegression\n",
    "from sklearn.model_selection import train_test_split"
   ]
  },
  {
   "cell_type": "code",
   "execution_count": null,
   "metadata": {
    "scrolled": false
   },
   "outputs": [],
   "source": [
    "df = pd.read_csv('water.csv')\n",
    "\n",
    "class correlation_dz:\n",
    "    \n",
    "    methods = ['pearson', 'spearman']\n",
    "\n",
    "    width = 10\n",
    "    height = 6\n",
    "    \n",
    "    def __init__(self, df_):\n",
    "        self.df = df_\n",
    "        \n",
    "        #Определение значений функции (смертность) и значений переменных (жесткость воды)\n",
    "        self.X = self.df[['hardness']]\n",
    "        self.Y = self.df['mortality']\n",
    "\n",
    "        #Разделение выборки на тетовую и тренировочную\n",
    "        self.X_train, self.X_test, self.Y_train, self.Y_test = train_test_split(self.X, self.Y, test_size=0.3)\n",
    "        \n",
    "        #Создание модели линейной регресси\n",
    "        self.model = LinearRegression()\n",
    "        #Обучение модели\n",
    "        self.model.fit(self.X_train, self.Y_train) \n",
    "        #Прогнозное значение\n",
    "        self.Y_predict = self.model.predict(self.X)\n",
    "        \n",
    "        #создаем полотно для отображения графика\n",
    "        self.figure2, self.axes2 = plt.subplots()\n",
    "        \n",
    "    def graph1(self):\n",
    "    # Построить точечный график для наглядного отображения зависимости значений от порядкового номера строки (населенный пункт)\n",
    "        #создаем полотно для отображения графика\n",
    "        self.figure1, self.axes1 = plt.subplots()\n",
    "        \n",
    "        # График\n",
    "        self.axes1.plot(self.df.iloc[:,0], self.df.mortality/10, linewidth = 1, label = f'Смертность (x10 чел.)')\n",
    "        self.axes1.plot(self.df.iloc[:,0], self.df.hardness,     linewidth = 1, label = f'Жесткость воды')\n",
    "        \n",
    "        self.axes1.scatter(self.df.iloc[:,0], self.df.mortality/10, linewidth = 3)\n",
    "        self.axes1.scatter(self.df.iloc[:,0], self.df.hardness,     linewidth = 3)\n",
    "\n",
    "        #форомируем разметку на осях\n",
    "        #основные линии оси-абсцис  \n",
    "        self.axes1.xaxis.set_major_locator(ticker.MultipleLocator(2))\n",
    "        #основные линии оси-ординат  \n",
    "        self.axes1.yaxis.set_major_locator(ticker.MultipleLocator(20))\n",
    "\n",
    "        self.axes1.legend(fontsize = 8, ncol = 2, facecolor = 'oldlace', \n",
    "                          edgecolor = 'r', title = 'Легенда', title_fontsize = '8', loc=\"best\")\n",
    "\n",
    "        #Подписываем график\n",
    "        plt.title('Смертность и жесткость воды ')\n",
    "        #Подписываем оси\n",
    "        plt.xlabel('Порядковый номер населенного пункта')\n",
    "        plt.ylabel('Показатель') \n",
    "\n",
    "\n",
    "        self.figure1.set_figwidth(self.width)\n",
    "        self.figure1.set_figheight(self.height)\n",
    "        self.axes1.grid()\n",
    "    \n",
    "    def graph2(self, X, Y, color_, label_ = ''):\n",
    " \n",
    "    # Построить графики\n",
    "        self.axes2.scatter(X, Y, c = color_, label = label_)      \n",
    "        self.figure2.set_figwidth(self.width)\n",
    "        self.figure2.set_figheight(self.height)\n",
    "        self.axes2.grid()\n",
    "        self.axes2.legend(loc=\"best\")\n",
    "        \n",
    "    \n",
    "    def  get_corr_koeff(self):\n",
    "    # *Рассчитать коэффициенты корреляции Пирсона и Спирмена  \n",
    "        dict_ = {item:(self.df[['mortality','hardness']].corr(item).iloc[0,1]) for item in self.methods}\n",
    "        return f'Коэффициенты корреляции: {dict_}'\n",
    "    \n",
    "    def get_line(self):\n",
    "    # Построить модель линейной регрессии\n",
    "        return f'Уравнение прямой: {str(self.model.coef_ [0])} • X + {self.model.intercept_}'\n",
    "\n",
    "    def get_corr_determination(self):\n",
    "    # Рассчитать коэффициент детерминации\n",
    "        return f'Коэффициент детерминации: {self.model.score(self.X_test, self.Y_test)}'\n",
    "\n",
    "#Функция для демонстрации решения\n",
    "def decisions(df_, title_):\n",
    "    obj_df = correlation_dz(df_)\n",
    "\n",
    "    obj_df.graph1()\n",
    "    obj_df.graph2(obj_df.X, obj_df.Y, 'b', 'Исходные значения (смертность, жесткость воды)')\n",
    "    obj_df.graph2(obj_df.X, obj_df.Y_predict, 'r', 'Линия регрессии')\n",
    "    obj_df.graph2(obj_df.X, (obj_df.Y_predict - obj_df.Y), 'g', 'График остатков')\n",
    "    \n",
    "    print(f'************* {title_} *************')\n",
    "    print(obj_df.get_corr_koeff())\n",
    "    print(obj_df.get_line())\n",
    "    print(obj_df.get_corr_determination())\n",
    "    "
   ]
  },
  {
   "cell_type": "code",
   "execution_count": null,
   "metadata": {},
   "outputs": [],
   "source": [
    "decisions(df, 'Полный набор данных')"
   ]
  },
  {
   "cell_type": "code",
   "execution_count": null,
   "metadata": {},
   "outputs": [],
   "source": [
    "decisions(df[ df['location'] == 'South' ], 'Юхные города')"
   ]
  },
  {
   "cell_type": "code",
   "execution_count": null,
   "metadata": {
    "scrolled": false
   },
   "outputs": [],
   "source": [
    "decisions(df[ df['location'] == 'North' ], 'Северные города')"
   ]
  },
  {
   "cell_type": "markdown",
   "metadata": {},
   "source": [
    "*Наблюдается выраженная обратная зависимость смертности от жесткости воды в южный регионах, для сервера наблюдаются исключения.*"
   ]
  }
 ],
 "metadata": {
  "kernelspec": {
   "display_name": "Python 3",
   "language": "python",
   "name": "python3"
  },
  "language_info": {
   "codemirror_mode": {
    "name": "ipython",
    "version": 3
   },
   "file_extension": ".py",
   "mimetype": "text/x-python",
   "name": "python",
   "nbconvert_exporter": "python",
   "pygments_lexer": "ipython3",
   "version": "3.8.3"
  }
 },
 "nbformat": 4,
 "nbformat_minor": 4
}
