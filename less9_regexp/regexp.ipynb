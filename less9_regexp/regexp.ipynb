{
 "cells": [
  {
   "cell_type": "markdown",
   "metadata": {},
   "source": [
    "# Домашнее задание к лекции \"Регулярные выражения\"\n",
    "\n",
    "Внимание! При реализации всех заданий необходимо использовать именно функционал регулярных выражений для обработки текста."
   ]
  },
  {
   "cell_type": "markdown",
   "metadata": {},
   "source": [
    "## Задание 1\n",
    "\n",
    "Напишите функцию, которая принимает на вход строку и проверяет является ли она валидным транспортным номером (1 буква, 3 цифры, 2 буквы, 2-3 цифры). Обратите внимание, что не все буквы кириллического алфавита используются в транспортных номерах.\n",
    "\n",
    "Если номер валиден, то функция должна возвращать отдельно номер и регион.\n",
    "\n",
    "Примеры работы программы:  \n",
    "\n",
    "1. `car_id = 'A222BC96'`\n",
    "\n",
    "Результат: \n",
    "`Номер A222BС валиден. Регион: 96`\n",
    "\n",
    "2. `car_id = 'АБ22ВВ193'`\n",
    "\n",
    "Результат: \n",
    "`Номер не валиден`"
   ]
  },
  {
   "cell_type": "code",
   "execution_count": 1,
   "metadata": {},
   "outputs": [
    {
     "name": "stdout",
     "output_type": "stream",
     "text": [
      "Номер М512ТЕ24 валиден. Регион 24.\n",
      "Номер Э498ЙЫ32 не валиден.\n"
     ]
    }
   ],
   "source": [
    "#Решение по заданию №1\n",
    "import re\n",
    "import random\n",
    "\n",
    "LETTER_FOR_AVTO_NUM = 'АВЕКМНОРСТХ'\n",
    "CHAR_CYR            = ''.join([chr(code) for code in range(1040, 1072)])\n",
    "LETTER_NOT_AVTO_NUM = ''.join(list(set(CHAR_CYR) - set(LETTER_FOR_AVTO_NUM)))\n",
    "DIGITS = ''.join([chr(code) for code in range(48, 58)])\n",
    "\n",
    "def GenAvtoNumValid(par):\n",
    "\n",
    "    return(random.choice(par) + \\\n",
    "       ''.join( random.sample(DIGITS, 3) ) +\\\n",
    "       ''.join( random.sample(par,  2) ) +\\\n",
    "       ''.join( random.sample(DIGITS,  2) ) )\n",
    "\n",
    "#Регулярные выражения для проверки госномера РФ\n",
    "# re.findall(rf'[{LETTER_FOR_AVTO_NUM}]\\d{{3}}[{LETTER_FOR_AVTO_NUM}]{{2}}\\d{{2}}', 'О111РР68')\n",
    "# re.findall(r'[{al}]\\d{{3}}[{al}]{{2}}\\d{{2}}'.format(al = LETTER_FOR_AVTO_NUM), 'О111РР68')\n",
    "# re.findall(r'[{0}]\\d{{3}}[{0}]{{2}}\\d{{2}}'.format(LETTER_FOR_AVTO_NUM), 'О111РР68')\n",
    "\n",
    "def CheckAvtoNum(str_avto_num):\n",
    "    condition = re.findall(r'[{0}]\\d{{3}}[{0}]{{2}}\\d{{2}}'.format(LETTER_FOR_AVTO_NUM), str_avto_num)\n",
    "    if condition:\n",
    "        ret = f'Номер {str_avto_num} валиден. Регион {str_avto_num[-2:]}.'\n",
    "    else:\n",
    "        ret = f'Номер {str_avto_num} не валиден.'\n",
    "    return(ret)\n",
    "\n",
    "print(CheckAvtoNum( GenAvtoNumValid(LETTER_FOR_AVTO_NUM) ))\n",
    "print(CheckAvtoNum( GenAvtoNumValid(LETTER_NOT_AVTO_NUM) ))\n"
   ]
  },
  {
   "cell_type": "code",
   "execution_count": 2,
   "metadata": {},
   "outputs": [
    {
     "name": "stdout",
     "output_type": "stream",
     "text": [
      "Буква \"А\" входит в госномер?q\n",
      "Буква \"Б\" входит в госномер?quit\n",
      "\n"
     ]
    }
   ],
   "source": [
    "#Дополнительная программка отбора символов входящих в госномер ТС РФ, \n",
    "#лучше выполнить 3 раза и взять 1 из не мене 2-х одинаковых строк\n",
    "list_symb = []\n",
    "for i in range(1040, 1072):\n",
    "    inp = input(f'Буква \"{chr(i)}\" входит в госномер?')\n",
    "    if inp.upper() in ['Y','Н']:\n",
    "          list_symb.append(chr(i))\n",
    "    elif inp.upper() in [\"QUIT\", \"EXIT\"]:\n",
    "        break\n",
    "\n",
    "print(','.join(list_symb))"
   ]
  },
  {
   "cell_type": "markdown",
   "metadata": {},
   "source": [
    "## Задание 2\n",
    "\n",
    "Напишите функцию, которая будет удалять все последовательные повторы слов из заданной строки при помощи регулярных выражений.\n",
    "\n",
    "Пример работы программы:  \n",
    "\n",
    "`some_string = 'Напишите функцию функцию, которая будет будет будет будет удалять все все все все последовательные повторы слов из из из из заданной строки строки при помощи регулярных выражений.'`\n",
    "\n",
    "Результат:  \n",
    "`Напишите функцию, которая будет удалять все последовательные повторы слов из заданной строки при помощи регулярных выражений.`"
   ]
  },
  {
   "cell_type": "code",
   "execution_count": 3,
   "metadata": {},
   "outputs": [
    {
     "name": "stdout",
     "output_type": "stream",
     "text": [
      "Результат: Напишите функцию, которая будет удалять все последовательные повторы слов из заданной строки при помощи регулярных выражений.\n"
     ]
    }
   ],
   "source": [
    "#Решение по заданию №2\n",
    "some_string = 'Напишите НапишитЕ функцию фУнкцию, которая будет будет будет \\\n",
    "               будет удалять все все все все последовательные повторы слов из из из из \\\n",
    "               заданной строки строки при помощи регулярных выражений.'\n",
    "\n",
    "def del_serial_repeat_word(line):\n",
    "    #замена нескольких подряд идущих пробелов на 1\n",
    "    line =  re.sub(r' +', r' ', line)\n",
    "    return(re.sub(r'(\\w+)(\\s\\1)+',r'\\1', line, flags = re.IGNORECASE))\n",
    "\n",
    "print('Результат:',del_serial_repeat_word(some_string))"
   ]
  },
  {
   "cell_type": "markdown",
   "metadata": {},
   "source": [
    "## Задание 3\n",
    "\n",
    "Напишите функцию, которая будет возвращать акроним по переданной в нее строке со словами.\n",
    "\n",
    "Примеры работы программы:  \n",
    "\n",
    "1. `some_words = 'Информационные технологии'`\n",
    "\n",
    "Результат: \n",
    "`ИТ`\n",
    "\n",
    "2. `some_words = 'Near Field Communication'`\n",
    "\n",
    "Результат: \n",
    "`NFC`"
   ]
  },
  {
   "cell_type": "code",
   "execution_count": 4,
   "metadata": {},
   "outputs": [
    {
     "name": "stdout",
     "output_type": "stream",
     "text": [
      "Результат: ИТ\n",
      "Результат: NFC\n"
     ]
    }
   ],
   "source": [
    "#Решение по заданию №3\n",
    "some_words = 'Информационные технологии'\n",
    "\n",
    "def get_first_letter_word(str_):\n",
    "    #return(''.join(re.findall('(\\w)\\w+', str_.upper())))\n",
    "    return(re.sub(r'(\\w)(\\w+\\s*)',r'\\1', str_).upper()) \n",
    "         \n",
    "print('Результат:', get_first_letter_word('Информационные технологии') )\n",
    "print('Результат:', get_first_letter_word('Near Field Communication') )\n",
    "           "
   ]
  },
  {
   "cell_type": "markdown",
   "metadata": {},
   "source": [
    "## Задание 4\n",
    "\n",
    "Напишите функцию, которая будет принимать на вход список email-адресов и выводить их распределение по доменным зонам.\n",
    "\n",
    "Пример работы программы:  \n",
    "\n",
    "`emails = ['test@gmail.com', 'xyz@test.in', 'test@ya.ru', 'xyz@mail.ru', 'xyz@ya.ru', 'xyz@gmail.com']`\n",
    "\n",
    "Результат: \n",
    "```\n",
    "gmail.com: 2\n",
    "test.in: 1 \n",
    "ya.ru: 2 \n",
    "mail.ru: 1\n",
    "```"
   ]
  },
  {
   "cell_type": "code",
   "execution_count": 5,
   "metadata": {},
   "outputs": [
    {
     "name": "stdout",
     "output_type": "stream",
     "text": [
      "Результат {'gmail.com': 2, 'test.in': 1, 'ya.ru': 2, 'mail.ru': 1}\n"
     ]
    }
   ],
   "source": [
    "#Решение по заданию №4\n",
    "emails = ['test@gmail.com', 'xyz@test.in', 'test@ya.ru', 'xyz@mail.ru', 'xyz@ya.ru', 'xyz@gmail.com']\n",
    "\n",
    "def get_domen_list(address): return(re.findall(r'(?<=@)\\w+\\.\\w+' , address)[0])\n",
    "\n",
    "list_domen = list(map(get_domen_list, emails))\n",
    "\n",
    "dict_ = {domen: len(list(filter(lambda x: x == domen, list_domen))) for domen in list_domen }\n",
    "\n",
    "print('Результат', dict_)\n"
   ]
  },
  {
   "cell_type": "markdown",
   "metadata": {},
   "source": [
    "## Задание 5 (необязательное)\n",
    "\n",
    "Напишите функцию, которая будет подсчитывать сколько слов начинается на гласные, а сколько на согласные буквы в тексте (текст может быть написан как с использованием букв кириллицы, так и латиницы).\n",
    "\n",
    "Пример работы программы:  \n",
    "\n",
    "`some_text = 'Эталонной реализацией Python является интерпретатор CPython, поддерживающий большинство активно используемых платформ. Он распространяется под свободной лицензией Python Software Foundation License, позволяющей использовать его без ограничений в любых приложениях, включая проприетарные.'`\n",
    "\n",
    "Результат: \n",
    "```\n",
    "Слов на гласные буквы: 9\n",
    "Слов на согласные буквы: 21 \n",
    "```"
   ]
  },
  {
   "cell_type": "code",
   "execution_count": 6,
   "metadata": {},
   "outputs": [
    {
     "name": "stdout",
     "output_type": "stream",
     "text": [
      "Слов на гласные буквы: 9\n",
      "Слов на согласные буквы: 21\n"
     ]
    }
   ],
   "source": [
    "some_text = 'Эталонной реализацией Python является интерпретатор CPython, поддерживающий \\\n",
    "             большинство активно используемых платформ. Он распространяется под свободной \\\n",
    "             лицензией Python Software Foundation License, позволяющей использовать его \\\n",
    "             без ограничений в любых приложениях, включая проприетарные.'\n",
    "\n",
    "CHAR_CYR = ''.join([chr(code) for code in range(1040, 1072)])\n",
    "CHAR_LAT = ''.join([chr(code) for code in range(65, 90)])\n",
    "CONSONANT_CYR = 'АЕИОУЭЮЯ'\n",
    "CONSONANT_LAT = 'AEIOU'\n",
    "VOWEL_CYR = ''.join(list(set(CHAR_CYR) - set(CONSONANT_CYR)))\n",
    "VOWEL_LAT = ''.join(list(set(CHAR_LAT) - set(CONSONANT_LAT)))\n",
    "\n",
    "count_word_firsrt_consonat = len(re.findall(rf'\\b[{CONSONANT_CYR+CONSONANT_LAT}]\\w*', some_text.upper()))\n",
    "count_word_firsrt_vowel = len(re.findall(rf'\\b[{VOWEL_CYR+VOWEL_LAT}]\\w*', some_text.upper())) \n",
    "\n",
    "\n",
    "print(f\"Слов на гласные буквы: {count_word_firsrt_consonat}\")\n",
    "print(f\"Слов на согласные буквы: {count_word_firsrt_vowel}\")\n",
    "\n"
   ]
  },
  {
   "cell_type": "markdown",
   "metadata": {},
   "source": [
    "## Задание 6 (необязательное)\n",
    "Напишите функцию, которая будет проверять номер сотового телефона на валидность (только для российского формата), если он валиден, то переводить его в формат:   \n",
    "+7-xxx-xxx-xx-xx  \n",
    "Постарайтесь предусмотреть как можно больше адекватных форматов изначального ввода номера.\n",
    "Примеры работы программы:  \n",
    "\n",
    "1. `phone = '+7 955 555-55-55'`\n",
    "\n",
    "Результат: \n",
    "`+7-950-555-55-55`\n",
    "\n",
    "2. `phone = '8(955)555-55-55'`\n",
    "\n",
    "Результат: \n",
    "`+7-950-555-55-55`\n",
    "\n",
    "3. `phone = '+7 955 555 55 55'`\n",
    "\n",
    "Результат: \n",
    "`+7-950-555-55-55`\n",
    "\n",
    "4. `phone = '7(955) 555-55-55'`\n",
    "\n",
    "Результат: \n",
    "`+7-950-555-55-55`\n",
    "\n",
    "5. `phone = '423-555-55-5555'`\n",
    "\n",
    "Результат: \n",
    "`Номер не валиден`\n",
    "\n",
    "6. `phone = '123-456-789'`\n",
    "\n",
    "Результат: \n",
    "`Номер не валиден`"
   ]
  },
  {
   "cell_type": "code",
   "execution_count": 7,
   "metadata": {},
   "outputs": [
    {
     "name": "stdout",
     "output_type": "stream",
     "text": [
      "Введите номер(1 симв. - Выход):1\n"
     ]
    }
   ],
   "source": [
    "\n",
    "#re.sub(r'[78]|\\D', '', 7(955) 555-55-55)\n",
    "\n",
    "def check_number_phone(phone):\n",
    "    phone = phone.replace('+', '')\n",
    "    number_phone = re.sub(r'^[78]|\\(|\\)| +|-|/|\\*|\\\\|\\||\\>|\\<|\\,|\\.', '', phone)\n",
    "    if len( number_phone ) == 10:\n",
    "        ret = '+7-'+number_phone[:3] + '-' + number_phone[3:6] + '-' + number_phone[6:8] + '-' + number_phone[8:10]\n",
    "    else:\n",
    "        ret = 'Номер не валиден'\n",
    "    return(ret)\n",
    "\n",
    "while True:\n",
    "    number_phone = input('Введите номер(1 симв. - Выход):')\n",
    "    if len(number_phone) == 1:\n",
    "        break\n",
    "    else:\n",
    "        print('Результат:', check_number_phone(number_phone))\n",
    "    "
   ]
  },
  {
   "cell_type": "markdown",
   "metadata": {},
   "source": [
    "#### ПРИМЕЧАНИЕ\n",
    "Домашнее задание сдается ссылкой на репозиторий [GitHub](https://github.com/).\n",
    "Не сможем проверить или помочь, если вы пришлете:\n",
    "- файлы;\n",
    "- архивы;\n",
    "- скриншоты кода.\n",
    "\n",
    "Все обсуждения и консультации по выполнению домашнего задания ведутся только на соответствующем канале в slack.\n",
    "\n",
    "##### Как правильно задавать вопросы аспирантам, преподавателям и коллегам\n",
    "Прежде чем задать вопрос, попробуйте найти ответ в интернете. Навык самостоятельного поиска информации — один из важнейших. Каждый практикующий специалист любого уровня делает это ежедневно.\n",
    "\n",
    "Сформулируйте вопрос по алгоритму:  \n",
    "1) Что я делаю?  \n",
    "2) Какого результата я ожидаю?  \n",
    "3) Как фактический результат отличается от ожидаемого?  \n",
    "4) Что я уже попробовал сделать, чтобы исправить проблему?  \n",
    "\n",
    "По возможности прикрепите к вопросу скриншоты либо ссылки на код. Не выкладывайте все решение, оставляйте только проблемный и воспроизводимый участок кода."
   ]
  }
 ],
 "metadata": {
  "kernelspec": {
   "display_name": "Python 3",
   "language": "python",
   "name": "python3"
  },
  "language_info": {
   "codemirror_mode": {
    "name": "ipython",
    "version": 3
   },
   "file_extension": ".py",
   "mimetype": "text/x-python",
   "name": "python",
   "nbconvert_exporter": "python",
   "pygments_lexer": "ipython3",
   "version": "3.8.3"
  }
 },
 "nbformat": 4,
 "nbformat_minor": 2
}
