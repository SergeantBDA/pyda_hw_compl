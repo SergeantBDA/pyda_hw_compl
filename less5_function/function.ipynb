{
 "cells": [
  {
   "cell_type": "markdown",
   "metadata": {},
   "source": [
    "# Домашнее задание к лекции \"Функции\""
   ]
  },
  {
   "cell_type": "markdown",
   "metadata": {},
   "source": [
    "Вам нужно помочь секретарю автоматизировать работу. Для этого нужно написать программу, которая будет на основе хранимых данных исполнять пользовательские команды.\n",
    "\n",
    "Исходные данные имеют следующую структуру:\n",
    "\n",
    "1. перечень всех документов\n",
    "```\n",
    "documents = [\n",
    "    {'type': 'passport', 'number': '2207 876234', 'name': 'Василий Гупкин'},\n",
    "    {'type': 'invoice', 'number': '11-2', 'name': 'Геннадий Покемонов'},\n",
    "    {'type': 'insurance', 'number': '10006', 'name': 'Аристарх Павлов'}\n",
    "]\n",
    "```\n",
    "2. перечень полок, на которых хранятся документы (если документ есть в documents, то он обязательно должен быть и в directories)\n",
    "```\n",
    "directories = {\n",
    "    '1': ['2207 876234', '11-2'],\n",
    "    '2': ['10006'],\n",
    "    '3': []\n",
    "}\n",
    "```\n",
    "\n",
    "Общие требования к программе:\n",
    "- код должен быть грамотно декомпозирован (каждая функция отвечает за свою конкретную задачу, дублирующийся функционал переиспользуется, а его код не повторяется);\n",
    "- в коде отсутствуют глобальные переменные (за исключением **documents** и **directories**);\n",
    "- пользовательский ввод обрабатывается в цикле **while** до тех пор, пока пользователь явно не завершит программу (вводом команды \"**q**\")."
   ]
  },
  {
   "cell_type": "code",
   "execution_count": 1,
   "metadata": {},
   "outputs": [],
   "source": [
    "# Решение по заданию 1\n",
    "# Инициализация исходных данных \n",
    "\n",
    "documents = [\n",
    " {'type': 'passport', 'number': '2207 876234', 'name': 'Василий Гупкин'},\n",
    " {'type': 'invoice', 'number': '11-2', 'name': 'Геннадий Покемонов'},\n",
    " {'type': 'insurance', 'number': '10006', 'name': 'Аристарх Павлов'}\n",
    "]\n",
    "\n",
    "directories = {\n",
    " '1': ['2207 876234', '11-2'],\n",
    " '2': ['10006'],\n",
    " '3': []\n",
    "}\n",
    "\n",
    "help_ = []"
   ]
  },
  {
   "cell_type": "code",
   "execution_count": 2,
   "metadata": {},
   "outputs": [],
   "source": [
    "# Вспомогательные функции\n",
    "help_.append({'∀-↓':'Вызов справки'})\n",
    "help_.append({'q  ':'Выход'})\n",
    "#Вспомогательная функция для отработки пустых значений\n",
    "def isnone(val, ret_not_none, ret_none):\n",
    "    if val in [None, {}, [], \"\"]:\n",
    "        ret = ret_none\n",
    "    else:\n",
    "        ret = ret_not_none + str(val)\n",
    "    return(ret)\n",
    "\n",
    "#Вспомогательная функция для вывода на экран списка словарей\n",
    "def out_list_dicts(list):\n",
    "    lines = ''\n",
    "    for item in list:\n",
    "        lines += str(item)[1:-1]+'\\n'\n",
    "    return(lines.replace(\"'\", \"\"))\n",
    "\n",
    "#Вспомогательная функция для ключей словоря (всех полок)\n",
    "help_.append({'ld ':'Все полки'})\n",
    "def get_nums_all_dirs(dirs):\n",
    "    return('Текущий перечень полок: ' + ','.join(dirs.keys()))\n",
    "\n",
    "#Вспомогательная функция для поиска документа по номеру\n",
    "#если документ сущестувует возвращает весь документ иначе пустой словарь\n",
    "help_.append({'doc':'Все атрибуты документа по номеру документа, get_doc(docs, numdoc)'})\n",
    "def get_doc(docs, numdoc):\n",
    "    ret = {}\n",
    "    for doc in docs:\n",
    "        if doc['number'] == str(numdoc):\n",
    "            ret = doc\n",
    "    return(ret)\n",
    "\n",
    "help_.append({'dir':'Содержимое всей полки по номеру документа, хранящегося на ней, get_dir(dirs, numdoc)'})\n",
    "#Вспомогательная функция для поиска полки по номеру содержащихся документов\n",
    "#если документ на полке возвращает словарь полки иначе пустой словарь\n",
    "def get_dir(dirs, numdoc):\n",
    "    ret = (None,)\n",
    "    for dir_ in dirs.items():\n",
    "        if numdoc in dir_[1]:\n",
    "            ret = dir_\n",
    "    return(ret)   "
   ]
  },
  {
   "cell_type": "code",
   "execution_count": 3,
   "metadata": {},
   "outputs": [
    {
     "name": "stdout",
     "output_type": "stream",
     "text": [
      "\n",
      "Проверка get_name_by_numdoc:\n",
      "Владелец документа \"11-2\": Геннадий Покемонов\n",
      "Документ \"~\" не найден в базе\n"
     ]
    }
   ],
   "source": [
    "#Функция получения владельца документа по его номеру\n",
    "#Пункт 1. Пользователь по команде \"p\" может узнать владельца документа по его номеру\n",
    "#Владелец документа: Аристарх Павлов\n",
    "#Документ не найден в базе\n",
    "help_.append({'p  ': 'Владелец документа по номеру документа, get_name_by_numdoc(docs, numdoc)'})\n",
    "def get_name_by_numdoc(docs, numdoc):\n",
    "    ret  = isnone(get_doc(docs, numdoc).get('name'), \\\n",
    "                  f'Владелец документа \"{numdoc}\": ',\\\n",
    "                  f'Документ \"{numdoc}\" не найден в базе')\n",
    "    return(ret)\n",
    "\n",
    "print(\"\\nПроверка get_name_by_numdoc:\")\n",
    "print(get_name_by_numdoc(documents, '11-2'))\n",
    "print(get_name_by_numdoc(documents, '~'))"
   ]
  },
  {
   "cell_type": "code",
   "execution_count": 4,
   "metadata": {},
   "outputs": [
    {
     "name": "stdout",
     "output_type": "stream",
     "text": [
      "\n",
      "Проверка get_dir_by_numdoc:\n",
      "Документ \"11-2\" хранится на полке: 1\n",
      "Документ \"^\" не найден в базе\n"
     ]
    }
   ],
   "source": [
    "#Функция получения номера полки по номеру документа\n",
    "#Пункт 2. Пользователь по команде \"s\" может по номеру документа узнать на какой полке он хранится\n",
    "#Документ хранится на полке: 2\n",
    "#Документ не найден в базе\n",
    "help_.append({'s  ': 'Номер полки по номеру документа, get_dir_by_numdoc(dirs, numdoc)'})\n",
    "def get_dir_by_numdoc(dirs, numdoc):\n",
    "    ret = isnone(get_dir(dirs, numdoc)[0], \\\n",
    "                 f'Документ \"{numdoc}\" хранится на полке: ', \n",
    "                 f'Документ \"{numdoc}\" не найден в базе')\n",
    "    return(ret)\n",
    "\n",
    "print(\"\\nПроверка get_dir_by_numdoc:\")\n",
    "print(get_dir_by_numdoc(directories, '11-2'))\n",
    "print(get_dir_by_numdoc(directories, '^'))"
   ]
  },
  {
   "cell_type": "code",
   "execution_count": 5,
   "metadata": {},
   "outputs": [
    {
     "name": "stdout",
     "output_type": "stream",
     "text": [
      "\n",
      "Проверка get_list_docs:\n",
      "№: 2207 876234, тип: passport, владелец: Василий Гупкин, полка хранения: Документ \"2207 876234\" хранится на полке: 1\n",
      "№: 11-2, тип: invoice, владелец: Геннадий Покемонов, полка хранения: Документ \"11-2\" хранится на полке: 1\n",
      "№: 10006, тип: insurance, владелец: Аристарх Павлов, полка хранения: Документ \"10006\" хранится на полке: 2\n",
      "\n"
     ]
    }
   ],
   "source": [
    "#Пункт 3. Пользователь по команде \"l\" может увидеть полную информацию по всем документам\n",
    "#№: 2207 876234, тип: passport, владелец: Василий Гупкин, полка хранения: 1\n",
    "# {'type': 'passport', 'number': '2207 876234', 'name': 'Василий Гупкин'},\n",
    "help_.append({'l  ': 'Полная информация по по всем документам, get_list_docs(docs, dirs)'})\n",
    "def get_list_docs(docs, dirs):\n",
    "    ret = []\n",
    "    for doc in docs:\n",
    "        document = {'№':doc['number'], \\\n",
    "                    'тип':doc['type'], \\\n",
    "                    'владелец':doc['name'], \\\n",
    "                    'полка хранения':get_dir_by_numdoc(dirs, doc['number'])}\n",
    "        ret.append(document) \n",
    "    return(out_list_dicts(ret))\n",
    "\n",
    "print(\"\\nПроверка get_list_docs:\")\n",
    "print(get_list_docs(documents, directories))"
   ]
  },
  {
   "cell_type": "code",
   "execution_count": 6,
   "metadata": {},
   "outputs": [
    {
     "name": "stdout",
     "output_type": "stream",
     "text": [
      "\n",
      "Проверка add_dir:\n",
      "Полка \"12\" добавлена. Текущий перечень полок: 1,2,3,12\n",
      "Полка 1 уже существует. Текущий перечень полок: 1,2,3,12\n"
     ]
    }
   ],
   "source": [
    "#Пункт 4. Пользователь по команде \"ads\" может добавить новую полку\n",
    "#Полка добавлена. Текущий перечень полок: 1, 2, 3, 10.\n",
    "#Такая полка уже существует. Текущий перечень полок: 1, 2, 3.\n",
    "help_.append({'ads': 'Добавление новой полки, add_dir(dirs, numdir)'})\n",
    "def add_dir(dirs, numdir):\n",
    "    if str(numdir) not in dirs.keys():\n",
    "        dirs[str(numdir)] = []\n",
    "        rezstr = f'Полка \"{numdir}\" добавлена. {get_nums_all_dirs(dirs)}'\n",
    "    else:\n",
    "        rezstr = f'Полка {numdir} уже существует. {get_nums_all_dirs(dirs)}'\n",
    "    return(rezstr)\n",
    "\n",
    "print(\"\\nПроверка add_dir:\")\n",
    "print(add_dir(directories, 12))\n",
    "print(add_dir(directories, '1'))"
   ]
  },
  {
   "cell_type": "code",
   "execution_count": 7,
   "metadata": {
    "scrolled": false
   },
   "outputs": [
    {
     "name": "stdout",
     "output_type": "stream",
     "text": [
      "\n",
      "Проверка del_dir:\n",
      "Полка \"12\" удалена. Текущий перечень полок: 1,2,3\n",
      "Полки \"12\" не существует. Текущий перечень полок: 1,2,3\n"
     ]
    }
   ],
   "source": [
    "#Пункт 5. Пользователь по команде \"ds\" может удалить существующую полку из данных (только если она пустая)\n",
    "#Полка удалена. Текущий перечень полок: 1, 2.\n",
    "#На полке есть документы, удалите их перед удалением полки. Текущий перечень полок: 1, 2, 3.'\n",
    "#Такой полки не существует. Текущий перечень полок: 1, 2, 3.\n",
    "help_.append({'ds ': 'Удаление полки, del_dir(dirs, numdir)'})\n",
    "def del_dir(dirs, numdir):\n",
    "    if str(numdir) in dirs.keys():\n",
    "        if not dirs[str(numdir)]:\n",
    "            del dirs[str(numdir)]\n",
    "            rezstr = f'Полка \"{numdir}\" удалена. {get_nums_all_dirs(dirs)}'\n",
    "        else:\n",
    "            rezstr = 'На полке есть документы, освободите полку перед ее удалением. ' + get_nums_all_dirs(dirs)\n",
    "    else:\n",
    "        rezstr = f'Полки \"{numdir}\" не существует. {get_nums_all_dirs(dirs)}'\n",
    "    return(rezstr)\n",
    "\n",
    "print(\"\\nПроверка del_dir:\")\n",
    "print(del_dir(directories, 12))\n",
    "print(del_dir(directories, 12))"
   ]
  },
  {
   "cell_type": "code",
   "execution_count": 8,
   "metadata": {
    "scrolled": true
   },
   "outputs": [
    {
     "name": "stdout",
     "output_type": "stream",
     "text": [
      "\n",
      "Проверка add_doc:\n",
      "\n",
      "Документ 10076 добавлен.\n",
      "Текущий список документов:\n",
      "№: 2207 876234, тип: passport, владелец: Василий Гупкин, полка хранения: Документ \"2207 876234\" хранится на полке: 1\n",
      "№: 11-2, тип: invoice, владелец: Геннадий Покемонов, полка хранения: Документ \"11-2\" хранится на полке: 1\n",
      "№: 10006, тип: insurance, владелец: Аристарх Павлов, полка хранения: Документ \"10006\" хранится на полке: 2\n",
      "№: 10076, тип: bill, владелец: Семен Семенов, полка хранения: Документ \"10076\" хранится на полке: 1\n",
      "\n",
      "\n",
      "Документ 10077 добавлен.\n",
      "Текущий список документов:\n",
      "№: 2207 876234, тип: passport, владелец: Василий Гупкин, полка хранения: Документ \"2207 876234\" хранится на полке: 1\n",
      "№: 11-2, тип: invoice, владелец: Геннадий Покемонов, полка хранения: Документ \"11-2\" хранится на полке: 1\n",
      "№: 10006, тип: insurance, владелец: Аристарх Павлов, полка хранения: Документ \"10006\" хранится на полке: 2\n",
      "№: 10076, тип: bill, владелец: Семен Семенов, полка хранения: Документ \"10076\" хранится на полке: 1\n",
      "№: 10077, тип: bill, владелец: Иван иванов, полка хранения: Документ \"10077\" хранится на полке: 3\n",
      "\n",
      "\n",
      "Полки 4 не существует. Добавьте полку командой as.\n",
      "Текущий список документов:\n",
      "№: 2207 876234, тип: passport, владелец: Василий Гупкин, полка хранения: Документ \"2207 876234\" хранится на полке: 1\n",
      "№: 11-2, тип: invoice, владелец: Геннадий Покемонов, полка хранения: Документ \"11-2\" хранится на полке: 1\n",
      "№: 10006, тип: insurance, владелец: Аристарх Павлов, полка хранения: Документ \"10006\" хранится на полке: 2\n",
      "№: 10076, тип: bill, владелец: Семен Семенов, полка хранения: Документ \"10076\" хранится на полке: 1\n",
      "№: 10077, тип: bill, владелец: Иван иванов, полка хранения: Документ \"10077\" хранится на полке: 3\n",
      "\n"
     ]
    }
   ],
   "source": [
    "# Пункт 1. Пользователь по команде \"ad\" может добавить новый документ в данные\n",
    "# Примеры работы:\n",
    "# Введите команду:\n",
    "# ad\n",
    "# Введите номер документа:\n",
    "# Введите тип документа:\n",
    "# Введите владельца документа:\n",
    "# Введите полку для хранения:\n",
    "# Документ добавлен. Текущий список документов:\n",
    "# №: 2207 876234, тип: passport, владелец: Василий Гупкин, полка хранения: 1\n",
    "# №: 11-2, тип: invoice, владелец: Геннадий Покемонов, полка хранения: 1\n",
    "# №: 10006, тип: insurance, владелец: Аристарх Павлов, полка хранения: 2\n",
    "# №: 42, тип: multipassport, владелец: R2D2, полка хранения: 3\n",
    "\n",
    "# Такой полки не существует. Добавьте полку командой as. \n",
    "# Текущий список документов:\n",
    "# №: 2207 876234, тип: passport, владелец: Василий Гупкин, полка хранения: 1\n",
    "# №: 11-2, тип: invoice, владелец: Геннадий Покемонов, полка хранения: 1\n",
    "# №: 10006, тип: insurance, владелец: Аристарх Павлов, полка хранения: 2\n",
    "#{'type': 'passport', 'number': '2207 876234', 'name': 'Василий Гупкин'},\n",
    "help_.append({'ad ': 'Добавление документа, add_doc(docs, dirs, doc_par_dict, dir_par_num)'})\n",
    "def add_doc(docs, dirs, doc_par_dict, dir_par_num):\n",
    "    if dir_par_num in dirs.keys():\n",
    "        doc = get_doc(docs, doc_par_dict['number'])\n",
    "        if doc:\n",
    "            ret = f'\\nПовтор номера документа.\\nТекущий список документов:\\n{get_list_docs(documents, directories)}'\n",
    "        else:\n",
    "            docs.append(doc_par_dict)\n",
    "            dirs[dir_par_num].append(doc_par_dict['number'])\n",
    "            ret = f'\\nДокумент {doc_par_dict[\"number\"]} добавлен.\\nТекущий список документов:\\n{get_list_docs(documents, directories)}'\n",
    "    else:\n",
    "        ret = '\\nПолки ' + dir_par_num +' не существует. Добавьте полку командой as.\\n' + \\\n",
    "              'Текущий список документов:\\n' + get_list_docs(documents, directories)\n",
    "    return(ret)\n",
    "\n",
    "\n",
    "print('\\nПроверка add_doc:')\n",
    "print(add_doc(documents, directories, {'type': 'bill', 'number': '10076', 'name': 'Семен Семенов'},  '1'))\n",
    "print(add_doc(documents, directories, {'type': 'bill', 'number': '10077', 'name': 'Иван иванов'},  '3'))\n",
    "print(add_doc(documents, directories, {'type': 'bill', 'number': '10078', 'name': 'Николай Николав'},'4'))\n",
    "\n"
   ]
  },
  {
   "cell_type": "code",
   "execution_count": 9,
   "metadata": {},
   "outputs": [
    {
     "name": "stdout",
     "output_type": "stream",
     "text": [
      "\n",
      "Проверка ed_doc:\n",
      "\n",
      "Документ 11-2 изменен.\n",
      "Текущий список документов:\n",
      "№: 2207 876234, тип: passport, владелец: Василий Гупкин, полка хранения: Документ \"2207 876234\" хранится на полке: 1\n",
      "№: 11-2, тип: bill, владелец: Семен Семенов, полка хранения: Документ \"11-2\" хранится на полке: 1\n",
      "№: 10006, тип: insurance, владелец: Аристарх Павлов, полка хранения: Документ \"10006\" хранится на полке: 2\n",
      "№: 10076, тип: bill, владелец: Семен Семенов, полка хранения: Документ \"10076\" хранится на полке: 1\n",
      "№: 10077, тип: bill, владелец: Иван иванов, полка хранения: Документ \"10077\" хранится на полке: 3\n",
      "\n"
     ]
    }
   ],
   "source": [
    "help_.append({'ed ': 'Изменение атрибутов документа, ed_doc(docs, doc_par_dict)'})\n",
    "def ed_doc(docs, doc_par_dict):\n",
    "    doc = get_doc(docs, doc_par_dict['number'])\n",
    "    if doc:\n",
    "        doc['type'] = doc_par_dict['type']\n",
    "        doc['name'] = doc_par_dict['name']\n",
    "        ret = f'\\nДокумент {doc_par_dict[\"number\"]} изменен.\\nТекущий список документов:\\n{get_list_docs(documents, directories)}'\n",
    "    else:\n",
    "        ret = f'\\nДокумента с номером {doc_par_dict[\"number\"]} не существует'\n",
    "    return(ret)\n",
    "\n",
    "print('\\nПроверка ed_doc:')\n",
    "print(ed_doc(documents, {'type': 'bill', 'number': '11-2', 'name': 'Семен Семенов'}))"
   ]
  },
  {
   "cell_type": "code",
   "execution_count": 10,
   "metadata": {
    "scrolled": true
   },
   "outputs": [
    {
     "name": "stdout",
     "output_type": "stream",
     "text": [
      "\n",
      "Проверка del_doc:\n",
      "Результат:\n",
      "Документ 11-2 удален.\n",
      "Текущий список документов:\n",
      "№: 2207 876234, тип: passport, владелец: Василий Гупкин, полка хранения: Документ \"2207 876234\" хранится на полке: 1\n",
      "№: 10006, тип: insurance, владелец: Аристарх Павлов, полка хранения: Документ \"10006\" хранится на полке: 2\n",
      "№: 10076, тип: bill, владелец: Семен Семенов, полка хранения: Документ \"10076\" хранится на полке: 1\n",
      "№: 10077, тип: bill, владелец: Иван иванов, полка хранения: Документ \"10077\" хранится на полке: 3\n",
      "\n",
      "Результат:\n",
      "Документ 11-2 не найден в базе.\n",
      "Текущий список документов:\n",
      "№: 2207 876234, тип: passport, владелец: Василий Гупкин, полка хранения: Документ \"2207 876234\" хранится на полке: 1\n",
      "№: 10006, тип: insurance, владелец: Аристарх Павлов, полка хранения: Документ \"10006\" хранится на полке: 2\n",
      "№: 10076, тип: bill, владелец: Семен Семенов, полка хранения: Документ \"10076\" хранится на полке: 1\n",
      "№: 10077, тип: bill, владелец: Иван иванов, полка хранения: Документ \"10077\" хранится на полке: 3\n",
      "\n"
     ]
    }
   ],
   "source": [
    "#Пункт 2. Пользователь по команде \"d\" может удалить документ из данных\n",
    "#Результат:\n",
    "#Документ удален. \n",
    "#Текущий список документов:\n",
    "#Документ не найден в базе. \n",
    "#Текущий список документов:\n",
    "help_.append({'d  ': 'Удаление документа, del_doc(docs, dirs, ndoc)'})\n",
    "\n",
    "def del_doc(docs, dirs, ndoc):\n",
    "    doc = get_doc(docs, ndoc)\n",
    "    if doc:\n",
    "        docs.remove(doc)\n",
    "        dir_ = get_dir(dirs, ndoc)\n",
    "        dir_[1].remove(ndoc)\n",
    "        ret = f'Результат:\\nДокумент {ndoc} удален.\\nТекущий список документов:\\n{get_list_docs(documents, directories)}'\n",
    "    else:\n",
    "        ret = f'Результат:\\nДокумент {ndoc} не найден в базе.\\nТекущий список документов:\\n{get_list_docs(documents, directories)}'\n",
    "    return(ret)\n",
    "\n",
    "print('\\nПроверка del_doc:')\n",
    "print(del_doc(documents, directories, '11-2'))\n",
    "print(del_doc(documents, directories, '11-2'))"
   ]
  },
  {
   "cell_type": "code",
   "execution_count": 11,
   "metadata": {},
   "outputs": [
    {
     "name": "stdout",
     "output_type": "stream",
     "text": [
      "\n",
      "Проверка rm_doc:\n",
      "Документ 11-2 не найден в базе.\n",
      "Текущий список документов:\n",
      "№: 2207 876234, тип: passport, владелец: Василий Гупкин, полка хранения: Документ \"2207 876234\" хранится на полке: 1\n",
      "№: 10006, тип: insurance, владелец: Аристарх Павлов, полка хранения: Документ \"10006\" хранится на полке: 2\n",
      "№: 10076, тип: bill, владелец: Семен Семенов, полка хранения: Документ \"10076\" хранится на полке: 1\n",
      "№: 10077, тип: bill, владелец: Иван иванов, полка хранения: Документ \"10077\" хранится на полке: 3\n",
      "\n",
      "\n",
      "Полка 4 не существует. Текущий перечень полок: 1,2,3\n",
      "Документ 11-9 не найден в базе.\n",
      "Текущий список документов:\n",
      "№: 2207 876234, тип: passport, владелец: Василий Гупкин, полка хранения: Документ \"2207 876234\" хранится на полке: 1\n",
      "№: 10006, тип: insurance, владелец: Аристарх Павлов, полка хранения: Документ \"10006\" хранится на полке: 2\n",
      "№: 10076, тип: bill, владелец: Семен Семенов, полка хранения: Документ \"10076\" хранится на полке: 1\n",
      "№: 10077, тип: bill, владелец: Иван иванов, полка хранения: Документ \"10077\" хранится на полке: 3\n",
      "\n"
     ]
    }
   ],
   "source": [
    "#Пункт 3. Пользователь по команде \"m\" может переместить документ с полки на полку\n",
    "#Введите номер документа:\n",
    "#Введите номер полки:\n",
    "#Результат:\n",
    "#Документ перемещен. \n",
    "#Текущий список документов:\n",
    "#Такой полки не существует. Текущий перечень полок: 1, 2, 3.\n",
    "#Документ не найден в базе. \n",
    "#Текущий список документов:\n",
    "help_.append({'m  ': 'Перемещение документа, rm_doc(docs, dirs, ndoc, ndir)'})\n",
    "def rm_doc(docs, dirs, ndoc, ndir):\n",
    "    if ndir in dirs.keys():\n",
    "        doc = get_doc(docs, ndoc)\n",
    "        if doc:\n",
    "            dir_ = get_dir(dirs, ndoc)\n",
    "            if dir_[0] != ndir:\n",
    "                dir_[1].remove(ndoc)\n",
    "                dirs[ndir].append(ndoc)\n",
    "                ret = f'\\nДокумент перемещен.\\nТекущий список документов:\\n{get_list_docs(documents, directories)}'\n",
    "            else:\n",
    "                ret = f'Перемещение документа {ndoc} не требуется.\\nТекущий список документов:\\n{get_list_docs(documents, directories)}'\n",
    "        else:\n",
    "            ret = f'Документ {ndoc} не найден в базе.\\nТекущий список документов:\\n{get_list_docs(documents, directories)}'\n",
    "    else:\n",
    "        ret = f'\\nПолка {ndir} не существует. {get_nums_all_dirs(dirs)}'\n",
    "    return(ret)  \n",
    "\n",
    "print('\\nПроверка rm_doc:')\n",
    "print(rm_doc(documents, directories, '11-2', '3'))\n",
    "print(rm_doc(documents, directories, '11-2', '4'))\n",
    "print(rm_doc(documents, directories, '11-9', '1'))"
   ]
  },
  {
   "cell_type": "code",
   "execution_count": 12,
   "metadata": {},
   "outputs": [
    {
     "data": {
      "text/plain": [
       "'№: 2207 876234, тип: passport, владелец: Василий Гупкин, полка хранения: Документ \"2207 876234\" хранится на полке: 1\\n№: 10006, тип: insurance, владелец: Аристарх Павлов, полка хранения: Документ \"10006\" хранится на полке: 2\\n№: 10076, тип: bill, владелец: Семен Семенов, полка хранения: Документ \"10076\" хранится на полке: 1\\n№: 10077, тип: bill, владелец: Иван иванов, полка хранения: Документ \"10077\" хранится на полке: 3\\n'"
      ]
     },
     "execution_count": 12,
     "metadata": {},
     "output_type": "execute_result"
    }
   ],
   "source": [
    "get_list_docs(documents, directories)"
   ]
  },
  {
   "cell_type": "code",
   "execution_count": 13,
   "metadata": {},
   "outputs": [
    {
     "name": "stdout",
     "output_type": "stream",
     "text": [
      "\n",
      "∀-↓: Вызов справки\n",
      "q  : Выход\n",
      "ld : Все полки\n",
      "doc: Все атрибуты документа по номеру документа, get_doc(docs, numdoc)\n",
      "dir: Содержимое всей полки по номеру документа, хранящегося на ней, get_dir(dirs, numdoc)\n",
      "p  : Владелец документа по номеру документа, get_name_by_numdoc(docs, numdoc)\n",
      "s  : Номер полки по номеру документа, get_dir_by_numdoc(dirs, numdoc)\n",
      "l  : Полная информация по по всем документам, get_list_docs(docs, dirs)\n",
      "ads: Добавление новой полки, add_dir(dirs, numdir)\n",
      "ds : Удаление полки, del_dir(dirs, numdir)\n",
      "ad : Добавление документа, add_doc(docs, dirs, doc_par_dict, dir_par_num)\n",
      "ed : Изменение атрибутов документа, ed_doc(docs, doc_par_dict)\n",
      "d  : Удаление документа, del_doc(docs, dirs, ndoc)\n",
      "m  : Перемещение документа, rm_doc(docs, dirs, ndoc, ndir)\n",
      "\n",
      "\n",
      "Введите команду:l\n",
      "№: 2207 876234, тип: passport, владелец: Василий Гупкин, полка хранения: Документ \"2207 876234\" хранится на полке: 1\n",
      "№: 10006, тип: insurance, владелец: Аристарх Павлов, полка хранения: Документ \"10006\" хранится на полке: 2\n",
      "№: 10076, тип: bill, владелец: Семен Семенов, полка хранения: Документ \"10076\" хранится на полке: 1\n",
      "№: 10077, тип: bill, владелец: Иван иванов, полка хранения: Документ \"10077\" хранится на полке: 3\n",
      "\n",
      "\n",
      "Введите команду:й\n",
      "\n",
      "∀-↓: Вызов справки\n",
      "q  : Выход\n",
      "ld : Все полки\n",
      "doc: Все атрибуты документа по номеру документа, get_doc(docs, numdoc)\n",
      "dir: Содержимое всей полки по номеру документа, хранящегося на ней, get_dir(dirs, numdoc)\n",
      "p  : Владелец документа по номеру документа, get_name_by_numdoc(docs, numdoc)\n",
      "s  : Номер полки по номеру документа, get_dir_by_numdoc(dirs, numdoc)\n",
      "l  : Полная информация по по всем документам, get_list_docs(docs, dirs)\n",
      "ads: Добавление новой полки, add_dir(dirs, numdir)\n",
      "ds : Удаление полки, del_dir(dirs, numdir)\n",
      "ad : Добавление документа, add_doc(docs, dirs, doc_par_dict, dir_par_num)\n",
      "ed : Изменение атрибутов документа, ed_doc(docs, doc_par_dict)\n",
      "d  : Удаление документа, del_doc(docs, dirs, ndoc)\n",
      "m  : Перемещение документа, rm_doc(docs, dirs, ndoc, ndir)\n",
      "\n",
      "\n",
      "Введите команду:q\n"
     ]
    }
   ],
   "source": [
    "def in_ndoc():\n",
    "    doc = input('Введите номер документа:')\n",
    "    return(doc)\n",
    "    \n",
    "def in_ndir():\n",
    "    dir_ = input('Введите номер полки:')\n",
    "    return(dir_)\n",
    "\n",
    "def in_doc():\n",
    "    number_ = input('Введите номер документа:')\n",
    "    type_   = input('Введите тип документа:')\n",
    "    name_   = input('Введите владельца документа:')\n",
    "    return({'type':type_, 'number': number_, 'name': name_})\n",
    "    \n",
    "def main_(docs, dirs):\n",
    "    print('\\n'+out_list_dicts(help_))\n",
    "    while True:\n",
    "        cmd = input('\\nВведите команду:').strip()\n",
    "        if cmd == 'p':     print(get_name_by_numdoc(docs, in_ndoc()))\n",
    "        elif cmd == 's':   print(get_dir_by_numdoc(dirs, in_ndoc()))\n",
    "        elif cmd == 'l':   print(get_list_docs(docs, dirs))\n",
    "        elif cmd == 'doc': print(get_doc(docs, in_ndoc()))\n",
    "        elif cmd == 'dir': print(get_dir(dirs, in_ndoc()))\n",
    "        elif cmd == 'ads': print(add_dir(dirs, in_ndir()))\n",
    "        elif cmd == 'ds':  print(del_dir(dirs, in_ndir()))\n",
    "        elif cmd == 'ad':  print(add_doc(docs, dirs, in_doc(), in_ndir()))\n",
    "        elif cmd == 'ed':  print(ed_doc(docs, in_doc()))\n",
    "        elif cmd == 'd':   print(del_doc(docs, dirs, in_ndoc()))\n",
    "        elif cmd == 'm':   print(rm_doc(docs, dirs, in_ndoc(),in_ndir()))\n",
    "        elif cmd == 'ld':  print(get_nums_all_dirs(dirs))\n",
    "        elif cmd == 'q':   break\n",
    "        else:              print('\\n'+out_list_dicts(help_))\n",
    "                \n",
    "\n",
    "main_(documents, directories)\n"
   ]
  }
 ],
 "metadata": {
  "kernelspec": {
   "display_name": "Python 3",
   "language": "python",
   "name": "python3"
  },
  "language_info": {
   "codemirror_mode": {
    "name": "ipython",
    "version": 3
   },
   "file_extension": ".py",
   "mimetype": "text/x-python",
   "name": "python",
   "nbconvert_exporter": "python",
   "pygments_lexer": "ipython3",
   "version": "3.8.3"
  }
 },
 "nbformat": 4,
 "nbformat_minor": 2
}
