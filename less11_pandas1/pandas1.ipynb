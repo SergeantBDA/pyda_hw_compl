{
 "cells": [
  {
   "cell_type": "markdown",
   "metadata": {},
   "source": [
    "###### Задание 1\n",
    "- Скачайте с [сайта](https://grouplens.org/datasets/movielens/) датасет любого размера. Определите какому фильму было выставлено больше всего оценок 5.0."
   ]
  },
  {
   "cell_type": "code",
   "execution_count": 1,
   "metadata": {},
   "outputs": [
    {
     "name": "stdout",
     "output_type": "stream",
     "text": [
      "Фильм которому высталено больше всего оценок 5.0:\n"
     ]
    },
    {
     "data": {
      "text/html": [
       "<div>\n",
       "<style scoped>\n",
       "    .dataframe tbody tr th:only-of-type {\n",
       "        vertical-align: middle;\n",
       "    }\n",
       "\n",
       "    .dataframe tbody tr th {\n",
       "        vertical-align: top;\n",
       "    }\n",
       "\n",
       "    .dataframe thead th {\n",
       "        text-align: right;\n",
       "    }\n",
       "</style>\n",
       "<table border=\"1\" class=\"dataframe\">\n",
       "  <thead>\n",
       "    <tr style=\"text-align: right;\">\n",
       "      <th></th>\n",
       "      <th>title</th>\n",
       "      <th>userId</th>\n",
       "    </tr>\n",
       "  </thead>\n",
       "  <tbody>\n",
       "    <tr>\n",
       "      <th>2310</th>\n",
       "      <td>Shawshank Redemption, The (1994)</td>\n",
       "      <td>153</td>\n",
       "    </tr>\n",
       "  </tbody>\n",
       "</table>\n",
       "</div>"
      ],
      "text/plain": [
       "                                 title  userId\n",
       "2310  Shawshank Redemption, The (1994)     153"
      ]
     },
     "execution_count": 1,
     "metadata": {},
     "output_type": "execute_result"
    }
   ],
   "source": [
    "#Решение по Заданию 1\n",
    "import pandas as pd\n",
    "MOVIES = \"source/ml-latest-small/movies.csv\"\n",
    "RATINGS = \"source/ml-latest-small/ratings.csv\"\n",
    "\n",
    "df_join_movies_ratings = pd.read_csv(MOVIES).merge(pd.read_csv(RATINGS), how = 'inner', on = 'movieId')\n",
    "\n",
    "# df_movies_greate - фрейм с фильмами оцененными на 5, сгруппированные по количеству оценок\n",
    "df_movies_greate = (df_join_movies_ratings[(df_join_movies_ratings['rating'] == 5)].\n",
    "                    groupby(['title'])['userId'].\n",
    "                    count().\n",
    "                    reset_index())\n",
    "\n",
    "#нахождение фильма которому высталено больше всего оценок 5\n",
    "print('Фильм которому высталено больше всего оценок 5.0:')\n",
    "df_movies_greate[(df_movies_greate['userId'] == df_movies_greate['userId'].max())]\n",
    "\n"
   ]
  },
  {
   "cell_type": "markdown",
   "metadata": {},
   "source": [
    "##### Задание 2\n",
    "- По данным файла power.csv посчитайте суммарное потребление стран Прибалтики (Латвия, Литва и Эстония) категорий 4, 12 и 21 за период с 2005 по 2010 года. Не учитывайте в расчетах отрицательные значения quantity."
   ]
  },
  {
   "cell_type": "code",
   "execution_count": 2,
   "metadata": {},
   "outputs": [
    {
     "name": "stdout",
     "output_type": "stream",
     "text": [
      "Cуммарное потребление стран Прибалтики (Латвия, Литва и Эстония) категорий 4, 12 и 21 за период с 2005 по 2010 года: 240580.0\n"
     ]
    }
   ],
   "source": [
    "df_power = pd.read_csv('source/power.csv')\n",
    "\n",
    "print( 'Cуммарное потребление стран Прибалтики (Латвия, Литва и Эстония) категорий 4, 12 и 21 за период с 2005 по 2010 года:',\n",
    "        df_power[( df_power['country' ].isin   (['Latvia', 'Lithuania', 'Estonia']) \n",
    "               &   df_power['category'].isin   ([4,12,21]) \n",
    "               &   df_power['year'    ].between(2005,2010))\n",
    "               &  (df_power['quantity'] > 0)]['quantity'].sum() )"
   ]
  },
  {
   "cell_type": "markdown",
   "metadata": {},
   "source": [
    "###### Задание 3\n",
    "- Выберите страницу любого сайта с табличными данными. Импортируйте таблицы в pandas dataframe."
   ]
  },
  {
   "cell_type": "code",
   "execution_count": 3,
   "metadata": {},
   "outputs": [
    {
     "data": {
      "text/html": [
       "<div>\n",
       "<style scoped>\n",
       "    .dataframe tbody tr th:only-of-type {\n",
       "        vertical-align: middle;\n",
       "    }\n",
       "\n",
       "    .dataframe tbody tr th {\n",
       "        vertical-align: top;\n",
       "    }\n",
       "\n",
       "    .dataframe thead th {\n",
       "        text-align: right;\n",
       "    }\n",
       "</style>\n",
       "<table border=\"1\" class=\"dataframe\">\n",
       "  <thead>\n",
       "    <tr style=\"text-align: right;\">\n",
       "      <th></th>\n",
       "      <th>number</th>\n",
       "      <th>country</th>\n",
       "      <th>ill</th>\n",
       "      <th>dead</th>\n",
       "      <th>recovered</th>\n",
       "      <th>rate_thousand</th>\n",
       "    </tr>\n",
       "  </thead>\n",
       "  <tbody>\n",
       "    <tr>\n",
       "      <th>0</th>\n",
       "      <td>1</td>\n",
       "      <td>США</td>\n",
       "      <td>10 728 497</td>\n",
       "      <td>244 304</td>\n",
       "      <td>4 095 146</td>\n",
       "      <td>3237</td>\n",
       "    </tr>\n",
       "    <tr>\n",
       "      <th>1</th>\n",
       "      <td>2</td>\n",
       "      <td>Индия</td>\n",
       "      <td>8 728 795</td>\n",
       "      <td>128 668</td>\n",
       "      <td>8 115 580</td>\n",
       "      <td>636</td>\n",
       "    </tr>\n",
       "    <tr>\n",
       "      <th>2</th>\n",
       "      <td>3</td>\n",
       "      <td>Бразилия</td>\n",
       "      <td>5 810 652</td>\n",
       "      <td>164 737</td>\n",
       "      <td>5 274 812</td>\n",
       "      <td>2746</td>\n",
       "    </tr>\n",
       "    <tr>\n",
       "      <th>3</th>\n",
       "      <td>4</td>\n",
       "      <td>Франция</td>\n",
       "      <td>1 915 677</td>\n",
       "      <td>42 600</td>\n",
       "      <td>139 760</td>\n",
       "      <td>2782</td>\n",
       "    </tr>\n",
       "    <tr>\n",
       "      <th>4</th>\n",
       "      <td>5</td>\n",
       "      <td>РОССИЯ</td>\n",
       "      <td>1 903 253</td>\n",
       "      <td>32 834</td>\n",
       "      <td>1 425 529</td>\n",
       "      <td>1297</td>\n",
       "    </tr>\n",
       "    <tr>\n",
       "      <th>5</th>\n",
       "      <td>6</td>\n",
       "      <td>Испания</td>\n",
       "      <td>1 458 591</td>\n",
       "      <td>40 769</td>\n",
       "      <td>150 376</td>\n",
       "      <td>3108</td>\n",
       "    </tr>\n",
       "    <tr>\n",
       "      <th>6</th>\n",
       "      <td>7</td>\n",
       "      <td>Велико­британия</td>\n",
       "      <td>1 321 031</td>\n",
       "      <td>51 396</td>\n",
       "      <td>3 089</td>\n",
       "      <td>1982</td>\n",
       "    </tr>\n",
       "    <tr>\n",
       "      <th>7</th>\n",
       "      <td>8</td>\n",
       "      <td>Аргентина</td>\n",
       "      <td>1 296 378</td>\n",
       "      <td>35 045</td>\n",
       "      <td>1 110 477</td>\n",
       "      <td>2885</td>\n",
       "    </tr>\n",
       "    <tr>\n",
       "      <th>8</th>\n",
       "      <td>9</td>\n",
       "      <td>Колумбия</td>\n",
       "      <td>1 182 697</td>\n",
       "      <td>33 669</td>\n",
       "      <td>1 089 340</td>\n",
       "      <td>2451</td>\n",
       "    </tr>\n",
       "    <tr>\n",
       "      <th>9</th>\n",
       "      <td>10</td>\n",
       "      <td>Италия</td>\n",
       "      <td>1 107 303</td>\n",
       "      <td>44 139</td>\n",
       "      <td>399 238</td>\n",
       "      <td>1838</td>\n",
       "    </tr>\n",
       "  </tbody>\n",
       "</table>\n",
       "</div>"
      ],
      "text/plain": [
       "   number          country         ill     dead  recovered rate_thousand\n",
       "0       1              США  10 728 497  244 304  4 095 146          3237\n",
       "1       2            Индия   8 728 795  128 668  8 115 580           636\n",
       "2       3         Бразилия   5 810 652  164 737  5 274 812          2746\n",
       "3       4          Франция   1 915 677   42 600    139 760          2782\n",
       "4       5           РОССИЯ   1 903 253   32 834  1 425 529          1297\n",
       "5       6          Испания   1 458 591   40 769    150 376          3108\n",
       "6       7  Велико­британия   1 321 031   51 396      3 089          1982\n",
       "7       8        Аргентина   1 296 378   35 045  1 110 477          2885\n",
       "8       9         Колумбия   1 182 697   33 669  1 089 340          2451\n",
       "9      10           Италия   1 107 303   44 139    399 238          1838"
      ]
     },
     "execution_count": 3,
     "metadata": {},
     "output_type": "execute_result"
    }
   ],
   "source": [
    "page_url = 'https://infotables.ru/meditsina/1197-tablitsa-koronavirusa'\n",
    "df = pd.read_html(page_url, \n",
    "                  skiprows = 2, \n",
    "                  attrs = {'class':'tables90'})[0].\\\n",
    "     rename(columns = {0:'number', 1:'country', 2:'ill', 3:'dead', 4:'recovered', 5:'rate_thousand'})\n",
    "\n",
    "df.head(10)"
   ]
  }
 ],
 "metadata": {
  "kernelspec": {
   "display_name": "Python 3",
   "language": "python",
   "name": "python3"
  },
  "language_info": {
   "codemirror_mode": {
    "name": "ipython",
    "version": 3
   },
   "file_extension": ".py",
   "mimetype": "text/x-python",
   "name": "python",
   "nbconvert_exporter": "python",
   "pygments_lexer": "ipython3",
   "version": "3.8.3"
  }
 },
 "nbformat": 4,
 "nbformat_minor": 4
}
