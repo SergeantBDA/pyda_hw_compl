{
 "cells": [
  {
   "cell_type": "markdown",
   "metadata": {},
   "source": [
    "##### Домашнее задание к лекции «Случайные события. Случайные величины»\n",
    "\n",
    "Смоделировать игру против лотерейного автомата типа “777”. Игрок платит 1 руб., после чего выпадает случайное целое число, равномерно распределенное от 0 до 999. При некоторых значениях числа игрок получает выигрыш (см. справа)\n",
    "\n",
    "Выгодна ли игра игроку?\n",
    "\n",
    "Сколько в среднем приобретает\n",
    "или теряет игрок за одну игру?\n",
    "\n",
    "1. 777: 200 руб.\n",
    "- 999: 100 руб.\n",
    "- 555: 50 руб.\n",
    "- 333: 15 руб.\n",
    "- 111: 10 руб.\n",
    "- *77: 5 руб.\n",
    "- **7: 3 руб.\n",
    "- *00: 2 руб.\n",
    "- **0: 1 руб.\n",
    "\n",
    "\\* – любая цифра\n",
    "\n",
    "Дополнительное задание повышенной сложности. Теоретически рассчитать средний выигрыш (проигрыш) и сравнить с результатами моделирования.\n"
   ]
  },
  {
   "cell_type": "code",
   "execution_count": 1,
   "metadata": {},
   "outputs": [],
   "source": [
    "import re\n",
    "import numpy as np\n",
    "import pandas as pd"
   ]
  },
  {
   "cell_type": "markdown",
   "metadata": {},
   "source": [
    "##### Решение по основному заданию"
   ]
  },
  {
   "cell_type": "code",
   "execution_count": 2,
   "metadata": {},
   "outputs": [],
   "source": [
    "# Решение \n",
    "\n",
    "class onearmed_bandit:\n",
    "    \"\"\"\n",
    "    Класс имитирует один подход игрока к автомату \n",
    "    repeat_count - кол-во попыток за один подход\n",
    "    coast_one - стоимость 1-й игры\n",
    "    player_number - счетчик игроков (экземпляров класса)\n",
    "    generate_default - выпавшие числа, который возможно задать по-умолчанию, инеча формируется случайная последовательность\n",
    "    counter_of_winning_combinations - статистика игры, выпавшие числа\n",
    "    MAX_NUM - максимальное число\n",
    "    WIN1, WIN10, WIN100 - словарь выиграшных комбинаций, остатки от делания на XXX (WINX, WINXX,WINXXX)\n",
    "    \"\"\"\n",
    "    player_number = 0\n",
    "    MAX_NUM    = 999\n",
    "    \n",
    "    WIN1   = {777: 200, 999: 100, 555: 50, 333: 15, 111: 10}\n",
    "    WIN10  = {7:  3, 0: 1}\n",
    "    WIN100 = {77: 5, 0: 2}\n",
    "    \n",
    "    TEST_DICT = {777:200,999:100,555:50,333:15,111:10,577:5,307:3,300:2,410:1}\n",
    "    \n",
    "    def __init__(self, repeat_count_ = 1000, coast_one_ = 1, generate_default_ = []):\n",
    "        self.repeat_count = repeat_count_\n",
    "        self.coast_one = coast_one_\n",
    "        self.player_number += 1\n",
    "        self.generate_default = generate_default_\n",
    "        self.counter_of_winning_combinations = {'777':[0, 0],'999':[0, 0],'555':[0, 0], '333':[0, 0], '111':[0, 0],\n",
    "                                                '*77':[0, 0],'**7':[0, 0],'*00':[0, 0], '**0':[0, 0], '***':[0, 0]}\n",
    "        self.statistics_arr = np.array([[],[]])\n",
    "    \n",
    "    def check_win(self, num_win1, num_win10, num_win100):\n",
    "        \"\"\"\n",
    "        Проверка выиграшной комбинации\n",
    "        \"\"\"\n",
    "        if num_win1 in self.WIN1.keys(): \n",
    "            ret = self.WIN1[num_win1]\n",
    "            self.counter_of_winning_combinations[str(num_win1)][0] += 1\n",
    "            self.counter_of_winning_combinations[str(num_win1)][1] += ret\n",
    "            \n",
    "        elif num_win100 in self.WIN100.keys(): \n",
    "            ret = self.WIN100[num_win100]\n",
    "            if num_win100 == 0:\n",
    "                str_num_win100 = \"*00\"\n",
    "            else:\n",
    "                str_num_win100 = '*' + str(num_win100)\n",
    "            self.counter_of_winning_combinations[str_num_win100][0] += 1\n",
    "            self.counter_of_winning_combinations[str_num_win100][1] += ret\n",
    "                \n",
    "        elif num_win10  in self.WIN10.keys() : \n",
    "            ret = self.WIN10[num_win10]\n",
    "            str_num_win10 = '**' + str(num_win10)\n",
    "            self.counter_of_winning_combinations[str_num_win10][0] += 1\n",
    "            self.counter_of_winning_combinations[str_num_win10][1] += ret\n",
    "        else:\n",
    "            self.counter_of_winning_combinations['***'][0] += 1\n",
    "            ret = 0\n",
    "\n",
    "        return ret\n",
    "    \n",
    "    def test(self):\n",
    "        \"\"\"\n",
    "        Тестирование основной функции класса \"check_win\" на основе тетовового словаря TEST_DICT\n",
    "        результат словарь = {число:[сумма выигрыша факт, сумма выигрыша прогноз, результат проверки]}\n",
    "        \"\"\"\n",
    "        ret = {}\n",
    "        for key, value in self.TEST_DICT.items():\n",
    "            summa_win_check = self.check_win(key,key%10,key%100)\n",
    "            ret[key]  = [value, \n",
    "                         summa_win_check,\n",
    "                        (value == summa_win_check)]\n",
    "        return ret\n",
    "    \n",
    "    def game_statistics(self):\n",
    "        \"\"\"\n",
    "        Статистика игры (statistics_arr). Возращается матрица (repeat_count x 3 ): порядковый номер, случайное число, выирыш в руб.\n",
    "        Одной попыткой считаем генерация случайного числа от 0 до 999, есть вариат генерации 3-х случайных значений от 0 до 9,\n",
    "        но он в данном решении не рассматривается.\n",
    "        \"\"\"\n",
    "        #Без otypes первый раз функции осуществляется 2 раза\n",
    "        v_check_win = np.vectorize(self.check_win, otypes = ['int32'])\n",
    "\n",
    "        if len(self.generate_default) == 0:\n",
    "            self.generate_arr = np.random.randint(0, self.MAX_NUM + 1, self.repeat_count)\n",
    "        else:\n",
    "            self.generate_arr = np.array(self.generate_default)\n",
    "        \n",
    "        rezult_arr = v_check_win(self.generate_arr, self.generate_arr%10, self.generate_arr%100)\n",
    "        self.statistics_arr = np.array([self.generate_arr, rezult_arr])\n",
    "        \n",
    "        return self.statistics_arr\n",
    "    \n",
    "    def main(self):\n",
    "        \"\"\"\n",
    "        Реузльтат игры возвращается list [затраченныя сумма (количество попыток x стоимость 1-й игры), сумма выпгрыша]\n",
    "        \"\"\"\n",
    "        self.game_statistics()\n",
    "        return [self.repeat_count*self.coast_one, \n",
    "                self.statistics_arr[1].sum()]"
   ]
  },
  {
   "cell_type": "code",
   "execution_count": 3,
   "metadata": {
    "scrolled": false
   },
   "outputs": [
    {
     "data": {
      "text/plain": [
       "{777: [200, 200, True],\n",
       " 999: [100, 100, True],\n",
       " 555: [50, 50, True],\n",
       " 333: [15, 15, True],\n",
       " 111: [10, 10, True],\n",
       " 577: [5, 5, True],\n",
       " 307: [3, 3, True],\n",
       " 300: [2, 2, True],\n",
       " 410: [1, 1, True]}"
      ]
     },
     "execution_count": 3,
     "metadata": {},
     "output_type": "execute_result"
    }
   ],
   "source": [
    "#Тестирование класса\n",
    "test_onearmed_bandit = onearmed_bandit(10)\n",
    "test_onearmed_bandit.test()"
   ]
  },
  {
   "cell_type": "code",
   "execution_count": 4,
   "metadata": {},
   "outputs": [
    {
     "name": "stdout",
     "output_type": "stream",
     "text": [
      "Игрок Barack Hussein Obama в течение 365 дней тратил на однорукого бандита по 1000 руб.\n",
      "Общая сумма расходов 365000 руб. Выгрыш 287591 руб.\n",
      "\n",
      "Результат игр \"УБЫТОЧНО\" 0.21 руб. за 1 попытку в день.\n",
      "------------------------------------------------------------------------ \n",
      "Статистика игр:\n",
      " {'777': [345, 69000], '999': [367, 36700], '555': [371, 18550], '333': [317, 4755], '111': [358, 3580], '*77': [3310, 16550], '**7': [32864, 98592], '*00': [3613, 7226], '**0': [32638, 32638], '***': [290817, 0]}\n",
      "\n",
      "Игрок George Walker Bush в течение 365 дней тратил на однорукого бандита по 500 руб.\n",
      "Общая сумма расходов 182500 руб. Выгрыш 144952 руб.\n",
      "\n",
      "Результат игр \"УБЫТОЧНО\" 0.21 руб. за 1 попытку в день.\n",
      "------------------------------------------------------------------------ \n",
      "Статистика игр:\n",
      " {'777': [181, 36200], '999': [186, 18600], '555': [166, 8300], '333': [202, 3030], '111': [192, 1920], '*77': [1618, 8090], '**7': [16206, 48618], '*00': [1839, 3678], '**0': [16516, 16516], '***': [145394, 0]}\n",
      "\n",
      "Игрок Donald John Trump в течение 365 дней тратил на однорукого бандита по 100 руб.\n",
      "Общая сумма расходов 36500 руб. Выгрыш 28925 руб.\n",
      "\n",
      "Результат игр \"УБЫТОЧНО\" 0.21 руб. за 1 попытку в день.\n",
      "------------------------------------------------------------------------ \n",
      "Статистика игр:\n",
      " {'777': [35, 7000], '999': [43, 4300], '555': [21, 1050], '333': [36, 540], '111': [34, 340], '*77': [319, 1595], '**7': [3351, 10053], '*00': [388, 776], '**0': [3271, 3271], '***': [29002, 0]}\n",
      "\n"
     ]
    }
   ],
   "source": [
    "#Имитируем игру 3-х игроков в течении 1 года.\n",
    "\n",
    "play_list = [ {'Barack Hussein Obama':[onearmed_bandit(1000), []], \n",
    "               'George Walker Bush':[onearmed_bandit(500),  []], \n",
    "               'Donald John Trump':[onearmed_bandit(100),  []]} ]\n",
    "\n",
    "rezult = {-1: 'ВЫГОДНО', 0: 'ПРИ СВОИХ', 1: 'УБЫТОЧНО'}\n",
    "\n",
    "DAYS = 365\n",
    "\n",
    "for player in play_list[0].keys():\n",
    "    for day in range(DAYS):\n",
    "        play_list[0][player][1].append(play_list[0][player][0].main()[1])\n",
    "    \n",
    "    coast = play_list[0][player][0].repeat_count * play_list[0][player][0].coast_one\n",
    "    winning = sum(play_list[0][player][1])\n",
    "    \n",
    "    mean_result_play = round( (DAYS*coast - winning)/DAYS/play_list[0][player][0].repeat_count, 2)\n",
    "    \n",
    "    print(f'Игрок {player} в течение {DAYS} дней тратил на однорукого бандита по {coast} руб.\\n\\\n",
    "Общая сумма расходов {DAYS*coast} руб. Выгрыш {winning} руб.\\n\\n\\\n",
    "Результат игр \"{rezult[np.sign(mean_result_play)]}\" {abs(mean_result_play)} руб. за 1 попытку в день.\\n\\\n",
    "------------------------------------------------------------------------ \\n\\\n",
    "Статистика игр:\\n {play_list[0][player][0].counter_of_winning_combinations }\\n' )\n",
    "\n",
    "        "
   ]
  },
  {
   "cell_type": "markdown",
   "metadata": {},
   "source": [
    "##### Решение по дополнительному заданию"
   ]
  },
  {
   "cell_type": "code",
   "execution_count": 5,
   "metadata": {
    "scrolled": false
   },
   "outputs": [
    {
     "data": {
      "text/plain": [
       "{'777': [1, 200],\n",
       " '999': [1, 100],\n",
       " '555': [1, 50],\n",
       " '333': [1, 15],\n",
       " '111': [1, 10],\n",
       " '*77': [9, 45],\n",
       " '**7': [90, 270],\n",
       " '*00': [10, 20],\n",
       " '**0': [90, 90],\n",
       " '***': [796, 0]}"
      ]
     },
     "execution_count": 5,
     "metadata": {},
     "output_type": "execute_result"
    }
   ],
   "source": [
    "#Определяем все выигрышные комбинации \n",
    "decision_onearmed_bandit = onearmed_bandit(1,1,list(range(0,1000)))\n",
    "decision_onearmed_bandit.main()\n",
    "decision_onearmed_bandit.counter_of_winning_combinations"
   ]
  },
  {
   "cell_type": "code",
   "execution_count": 6,
   "metadata": {},
   "outputs": [
    {
     "name": "stdout",
     "output_type": "stream",
     "text": [
      "Если мы потратим на игру 1000 руб. мы выиграем 800 руб., результат игры \"УБЫТОЧНО\" 0.2 руб. на 1 руб. расходов.\n"
     ]
    }
   ],
   "source": [
    "#Расчитываем выгоду\n",
    "\n",
    "summa_win  = sum([item[1] for key, item in decision_onearmed_bandit.counter_of_winning_combinations.items()])\n",
    "summa_cost = len(decision_onearmed_bandit.statistics_arr[0]) * decision_onearmed_bandit.coast_one \n",
    "rezult_str = rezult[np.sign(summa_cost - summa_win)]\n",
    "\n",
    "print(f'Если мы потратим на игру {summa_cost} руб. мы выиграем {summa_win} руб., результат игры \"{rezult_str}\" \\\n",
    "{(summa_cost - summa_win)/summa_cost} руб. на 1 руб. расходов.')\n"
   ]
  }
 ],
 "metadata": {
  "kernelspec": {
   "display_name": "Python 3",
   "language": "python",
   "name": "python3"
  },
  "language_info": {
   "codemirror_mode": {
    "name": "ipython",
    "version": 3
   },
   "file_extension": ".py",
   "mimetype": "text/x-python",
   "name": "python",
   "nbconvert_exporter": "python",
   "pygments_lexer": "ipython3",
   "version": "3.8.3"
  }
 },
 "nbformat": 4,
 "nbformat_minor": 4
}
