{
 "cells": [
  {
   "cell_type": "markdown",
   "metadata": {},
   "source": [
    "[Ссылка на задание](https://netology.ru/profile/program/pyda-15/lessons/44588/lesson_items/204455)"
   ]
  },
  {
   "cell_type": "markdown",
   "metadata": {},
   "source": [
    "*Задание 1*\n",
    "\n",
    "Напишите функцию, которая возвращает название валюты (поле ‘Name’) с максимальным значением курса с помощью сервиса https://www.cbr-xml-daily.ru/daily_json.js"
   ]
  },
  {
   "cell_type": "code",
   "execution_count": null,
   "metadata": {
    "scrolled": true
   },
   "outputs": [],
   "source": [
    "#Решение по Заданию 1 (Вариант 1)\n",
    "import requests\n",
    "LINK = 'https://www.cbr-xml-daily.ru/daily_json.js'\n",
    "\n",
    "def get_max_valut():\n",
    "    rez = list(requests.get(LINK).json()['Valute'].values())\n",
    "    ret_max = ['', rez[0]['Value'], None]\n",
    "    for item in rez[1:]:\n",
    "        if ret_max[1] < item['Value']/item['Nominal']:\n",
    "            ret_max[0] = item['Name']\n",
    "            ret_max[1] = item['Value']/item['Nominal']\n",
    "            ret_max[2] = item['Nominal']\n",
    "\n",
    "    return ret_max\n",
    "\n",
    "def get_min_valut():\n",
    "    rez = list(requests.get(LINK).json()['Valute'].values())\n",
    "    ret_min = ['', rez[0]['Value'], None]\n",
    "    for item in rez[1:]:\n",
    "        if ret_min[1] > item['Value']/item['Nominal']:\n",
    "            ret_min[0] = item['Name']\n",
    "            ret_min[1] = item['Value']/item['Nominal']\n",
    "            ret_min[2] = item['Nominal']\n",
    "    return ret_min\n",
    "\n",
    "out = get_max_valut()    \n",
    "print(f\"Максимальный курс - цена {out[2]} '{out[0]}' составляет {out[1]:.4f} руб.\")\n",
    "out = get_min_valut()  \n",
    "print(f\"Минимальный курс - цена {out[2]} '{out[0]}' составляет {out[1]:.4f} руб.\")\n"
   ]
  },
  {
   "cell_type": "code",
   "execution_count": 1,
   "metadata": {},
   "outputs": [
    {
     "data": {
      "text/plain": [
       "'СДР (специальные права заимствования)'"
      ]
     },
     "execution_count": 1,
     "metadata": {},
     "output_type": "execute_result"
    }
   ],
   "source": [
    "#Решение по Заданию 1 (Вариант 2)\n",
    "import requests\n",
    "r = requests.get('https://www.cbr-xml-daily.ru/daily_json.js')\n",
    "\n",
    "data_dict = r.json()['Valute']\n",
    "max(data_dict.items(), key=lambda x: x[1]['Value'] / x[1]['Nominal'])[1]['Name']"
   ]
  },
  {
   "cell_type": "markdown",
   "metadata": {},
   "source": [
    "*Задание 2*\n",
    "\n",
    "Добавьте в класс Rate параметр diff (со значениями True или False), который в случае значения True в методах курсов валют (eur, usd итд) будет возвращать не курс валюты, а изменение по сравнению в прошлым значением. Считайте, self.diff будет принимать значение True только при возврате значения курса. При отображении всей информации о валюте он не используется."
   ]
  },
  {
   "cell_type": "code",
   "execution_count": 82,
   "metadata": {
    "scrolled": true
   },
   "outputs": [
    {
     "name": "stdout",
     "output_type": "stream",
     "text": [
      "True\n",
      "TEST# Value: 77.1875, Course change: -1.2684\n"
     ]
    }
   ],
   "source": [
    "#Решение по Заданию 2 (Вариант 1, наследование + полиморфизм (методы usd ..) + инкапсуляция (метод make_format) )\n",
    "from libs.exchange import Rate\n",
    "\n",
    "class RateModiff1(Rate):\n",
    "    def __init__(self, diff = True):\n",
    "        super().__init__('value')\n",
    "        self.diff   = diff\n",
    "\n",
    "    def make_format(self, currency):\n",
    "        \"\"\"\n",
    "        Возвращает значение \n",
    "        \"\"\"\n",
    "        response = self.exchange_rates()\n",
    "        print(self.diff)\n",
    "        if self.format == 'value': \n",
    "            if self.diff:\n",
    "                return round(response[currency]['Value'] - response[currency]['Previous'], 4)\n",
    "        return 'Error'\n",
    "\n",
    "rate_base = Rate()\n",
    "rate_modif_true  = RateModiff1()\n",
    "print(f'TEST# Value: {rate_base.usd()}, Course change: {rate_modif_true.usd()}')"
   ]
  },
  {
   "cell_type": "code",
   "execution_count": 83,
   "metadata": {},
   "outputs": [
    {
     "name": "stdout",
     "output_type": "stream",
     "text": [
      "-1.2684\n",
      "77.1875\n",
      "{'ID': 'R01235', 'NumCode': '840', 'CharCode': 'USD', 'Nominal': 1, 'Name': 'Доллар США', 'Value': 77.1875, 'Previous': 78.4559}\n",
      "{'ID': 'R01235', 'NumCode': '840', 'CharCode': 'USD', 'Nominal': 1, 'Name': 'Доллар США', 'Value': 77.1875, 'Previous': 78.4559}\n"
     ]
    }
   ],
   "source": [
    "#Решение по Заданию 2 (Вариант 2, новый класс на основе Rate c дополнительным параметром diff)\n",
    "import requests\n",
    "class RateModiff2:\n",
    "    def __init__(self, format_ = 'value', diff = True):\n",
    "        self.format = format_\n",
    "        self.diff = diff\n",
    "    \n",
    "    def exchange_rates(self):\n",
    "        \"\"\"\n",
    "        Возвращает ответ сервиса с информацией о валютах в виде:\n",
    "        \n",
    "        {\n",
    "            'AMD': {\n",
    "                'CharCode': 'AMD',\n",
    "                'ID': 'R01060',\n",
    "                'Name': 'Армянских драмов',\n",
    "                'Nominal': 100,\n",
    "                'NumCode': '051',\n",
    "                'Previous': 14.103,\n",
    "                'Value': 14.0879\n",
    "                },\n",
    "            ...\n",
    "        }\n",
    "        \"\"\"\n",
    "        self.r = requests.get('https://www.cbr-xml-daily.ru/daily_json.js')\n",
    "        return self.r.json()['Valute']\n",
    "    \n",
    "    def make_format(self, currency):\n",
    "        \"\"\"\n",
    "        Возвращает информацию о валюте currency в двух вариантах:\n",
    "        - полная информация о валюте при self.format = 'full':\n",
    "        Rate('full').make_format('EUR')\n",
    "        {\n",
    "            'CharCode': 'EUR',\n",
    "            'ID': 'R01239',\n",
    "            'Name': 'Евро',\n",
    "            'Nominal': 1,\n",
    "            'NumCode': '978',\n",
    "            'Previous': 79.6765,\n",
    "            'Value': 79.4966\n",
    "        }\n",
    "        \n",
    "        Rate('value').make_format('EUR')\n",
    "        79.4966\n",
    "        \"\"\"\n",
    "        response = self.exchange_rates()\n",
    "        \n",
    "        if currency in response:\n",
    "            if self.format == 'full':\n",
    "                return response[currency]\n",
    "            \n",
    "            if self.format == 'value':\n",
    "                if not self.diff:\n",
    "                    return response[currency]['Value']\n",
    "                else:\n",
    "                    return round(response[currency]['Value'] - response[currency]['Previous'], 4)\n",
    "        \n",
    "        return 'Error'\n",
    "    \n",
    "    def eur(self):\n",
    "        \"\"\"Возвращает курс евро на сегодня в формате self.format\"\"\"\n",
    "        return self.make_format('EUR')\n",
    "    \n",
    "    def usd(self):\n",
    "        \"\"\"Возвращает курс доллара на сегодня в формате self.format\"\"\"\n",
    "        return self.make_format('USD')\n",
    "    \n",
    "    def brl(self):\n",
    "        \"\"\"Возвращает курс бразильского реала на сегодня в формате self.format\"\"\"\n",
    "        return self.make_format('BRL')\n",
    "\n",
    "rate_test1 = RateModiff2('value', True)\n",
    "rate_test2 = RateModiff2('value', False)\n",
    "rate_test3 = RateModiff2('full', True)\n",
    "rate_test4 = RateModiff2('full', False)\n",
    "\n",
    "print(rate_test1.usd())\n",
    "print(rate_test2.usd())\n",
    "print(rate_test3.usd())\n",
    "print(rate_test4.usd())"
   ]
  },
  {
   "cell_type": "markdown",
   "metadata": {},
   "source": [
    "*Задание 3*\n",
    "\n",
    "Напишите класс Designer, который учитывает количество международных премий. Подсказки в коде занятия в разделе “Домашнее задание задача 3”.\n",
    "\n",
    "Комментарий по классу Designer такой:\n",
    "Напишите класс Designer, который учитывает количество международных премий для дизайнеров (из презентации: “Повышение на 1 грейд за каждые 7 баллов. Получение международной премии – это +2 балла”). Считайте, что при выходе на работу сотрудник уже имеет две премии и их количество не меняется со стажем (конечно если хотите это можно вручную менять).\n",
    "\n",
    "Класс Designer пишется по аналогии с классом Developer из материалов занятия. Комментарий про его условия Вика написала выше: “Повышение на 1 грейд за каждые 7 баллов. Получение международной премии – это +2 балла”"
   ]
  },
  {
   "cell_type": "code",
   "execution_count": 120,
   "metadata": {},
   "outputs": [],
   "source": [
    "#Решение по Заданию 3\n",
    "class Employee:\n",
    "    def __init__(self, name, seniority):\n",
    "        self.name = name\n",
    "        self.seniority = seniority     \n",
    "        self.grade = 1\n",
    "    \n",
    "    def grade_up(self):\n",
    "        \"\"\"Повышает уровень сотрудника\"\"\"\n",
    "        self.grade += 1\n",
    "    \n",
    "    def publish_grade(self):\n",
    "        \"\"\"Публикация результатов аккредитации сотрудников\"\"\"\n",
    "        print(f'Работник: {self.name}, Грейд: {self.grade}, Баллы: {self.seniority}')\n",
    "    \n",
    "    def check_if_it_is_time_for_upgrade(self):\n",
    "        pass\n",
    "#-----------------------  \n",
    "class Designer(Employee):\n",
    "    def __init__(self, name, seniority = 4):\n",
    "        super().__init__(name, seniority)\n",
    "        self.seniority = seniority\n",
    "    def check_if_it_is_time_for_upgrade(self):\n",
    "        # для каждой премии увелиичваем счетчик на +2\n",
    "        # пока считаем, что все разработчики проходят аккредитацию\n",
    "        self.seniority += 2\n",
    "        \n",
    "        # условие повышения сотрудника из презентации\n",
    "        if (self.seniority - 7*self.grade)  >= 0:\n",
    "            self.grade_up()\n",
    "        \n",
    "        # публикация результатов\n",
    "        self.publish_grade()"
   ]
  },
  {
   "cell_type": "code",
   "execution_count": 126,
   "metadata": {
    "scrolled": true
   },
   "outputs": [
    {
     "name": "stdout",
     "output_type": "stream",
     "text": [
      "Вручение премии 3!!!\n",
      "Работник: Мария, Грейд: 1, Баллы: 6\n",
      "Вручение премии 4!!!\n",
      "Работник: Мария, Грейд: 2, Баллы: 8\n",
      "Вручение премии 5!!!\n",
      "Работник: Мария, Грейд: 2, Баллы: 10\n",
      "Вручение премии 6!!!\n",
      "Работник: Мария, Грейд: 2, Баллы: 12\n",
      "Вручение премии 7!!!\n",
      "Работник: Мария, Грейд: 3, Баллы: 14\n",
      "Вручение премии 8!!!\n",
      "Работник: Мария, Грейд: 3, Баллы: 16\n",
      "Вручение премии 9!!!\n",
      "Работник: Мария, Грейд: 3, Баллы: 18\n",
      "Вручение премии 10!!!\n",
      "Работник: Мария, Грейд: 3, Баллы: 20\n",
      "Вручение премии 11!!!\n",
      "Работник: Мария, Грейд: 4, Баллы: 22\n",
      "Вручение премии 12!!!\n",
      "Работник: Мария, Грейд: 4, Баллы: 24\n",
      "Вручение премии 13!!!\n",
      "Работник: Мария, Грейд: 4, Баллы: 26\n",
      "Вручение премии 14!!!\n",
      "Работник: Мария, Грейд: 5, Баллы: 28\n",
      "Вручение премии 15!!!\n",
      "Работник: Мария, Грейд: 5, Баллы: 30\n",
      "Вручение премии 16!!!\n",
      "Работник: Мария, Грейд: 5, Баллы: 32\n"
     ]
    }
   ],
   "source": [
    "Maria = Designer('Мария')\n",
    "for i in range(14):\n",
    "    print(f'Вручение премии {i + 3} !!!')\n",
    "    Maria.check_if_it_is_time_for_upgrade()"
   ]
  }
 ],
 "metadata": {
  "kernelspec": {
   "display_name": "Python 3",
   "language": "python",
   "name": "python3"
  },
  "language_info": {
   "codemirror_mode": {
    "name": "ipython",
    "version": 3
   },
   "file_extension": ".py",
   "mimetype": "text/x-python",
   "name": "python",
   "nbconvert_exporter": "python",
   "pygments_lexer": "ipython3",
   "version": "3.8.3"
  }
 },
 "nbformat": 4,
 "nbformat_minor": 4
}
