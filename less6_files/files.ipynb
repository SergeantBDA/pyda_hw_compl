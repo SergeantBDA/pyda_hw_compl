{
 "cells": [
  {
   "cell_type": "markdown",
   "metadata": {},
   "source": [
    "##### Домашнее задание к лекции Работа с файловой системой и модули\n",
    "###### Преподаватель: Константин Башевой\n",
    "**Домашнее задание по лекции находится во вкладке Материалы к лекции Работа с файловой системой и модули, в конце файла с кодом (задача на доработку темы занятия).\n",
    "Готовое решение необходимо прикрепить в эту вкладку.**\n",
    "\n",
    "###### Домашнее задание\n",
    "\n",
    "1. Переведите содержимое файла purchase_log.txt в словарь purchases вида:\n",
    "{‘1840e0b9d4’: ‘Продукты’, …}\n",
    "\n",
    "2. Для каждого user_id в файле visit_log.csv определите третий столбец с категорией покупки (если покупка была, сам файл visit_log.csv изменять не надо). Запишите в файл funnel.csv визиты из файла visit_log.csv, в которых были покупки с указанием категории.\n",
    "\n",
    "Учтите условия на данные:\n",
    "содержимое purchase_log.txt помещается в оперативную память компьютера\n",
    "содержимое visit_log.csv - нет; используйте только построчную обработку этого файла"
   ]
  },
  {
   "cell_type": "code",
   "execution_count": 1,
   "metadata": {
    "scrolled": true
   },
   "outputs": [
    {
     "name": "stdout",
     "output_type": "stream",
     "text": [
      "1840e0b9d4 : Продукты\n",
      "4e4f90fcfb : Электроника\n",
      "afea8d72fc : Электроника\n",
      "373a6055fe : Бытовая техника\n",
      "9b2ab046f3 : Электроника\n",
      "-------\n",
      "[('1840e0b9d4', 'Продукты'), ('4e4f90fcfb', 'Электроника'), ('afea8d72fc', 'Электроника'), ('373a6055fe', 'Бытовая техника'), ('9b2ab046f3', 'Электроника')]\n"
     ]
    }
   ],
   "source": [
    "#Решение. Задание №1\n",
    "import json\n",
    "\n",
    "#функция для демонстрации результата, вывод n-первых значений словаря dict_\n",
    "def out_dict(dict_, n):\n",
    "    i = 0 \n",
    "    for key, val in dict_.items():\n",
    "        print(key, \":\", val)\n",
    "        i += 1\n",
    "        if i == n:\n",
    "            break\n",
    "    print(\"-------\")\n",
    "\n",
    "file_purchase_logs = open('Downloads/purchase_log.txt', 'r', encoding = 'UTF-8')\n",
    "visit_logs = file_purchase_logs.readlines()\n",
    "\n",
    "#Вариант 1 через цикл\n",
    "# dict_visit_logs1 = {}\n",
    "# for line in visit_logs[1:]:\n",
    "#     for_dict = json.loads(line)\n",
    "#     dict_visit_logs1[for_dict['user_id']] = for_dict['category']\n",
    "\n",
    "# out_dict(dict_visit_logs1, 5)\n",
    "# print(list(dict_visit_logs1.items())[:5])\n",
    "    \n",
    "#Вариант 2 dict comprehension\n",
    "dict_visit_logs2 = {json.loads(line)['user_id']:json.loads(line)['category'] for line in visit_logs[1:]}\n",
    "\n",
    "out_dict(dict_visit_logs2, 5)\n",
    "print(list(dict_visit_logs2.items())[:5])\n",
    "\n",
    "file_purchase_logs.close()"
   ]
  },
  {
   "cell_type": "code",
   "execution_count": 17,
   "metadata": {},
   "outputs": [],
   "source": [
    "#Решение. Задание №2\n",
    "\n",
    "file_visit_logs = open('Downloads/visit_log.csv', 'r', encoding = 'UTF-8')\n",
    "\n",
    "file_visit_logs.readline()\n",
    "\n",
    "with open('funnel.txt', 'w') as funnel_file:\n",
    "    funnel_file.write('user_id,source,category\\n')\n",
    "    for line in file_visit_logs:\n",
    "        list_line = line.strip().split(',')\n",
    "        tmp = dict_visit_logs2.get(list_line[0])\n",
    "        if tmp:\n",
    "            list_line.append(tmp)\n",
    "            funnel_file.write(','.join(list_line)+'\\n')\n",
    "\n",
    "file_visit_logs.close()\n",
    "funnel_file.close()"
   ]
  }
 ],
 "metadata": {
  "kernelspec": {
   "display_name": "Python 3",
   "language": "python",
   "name": "python3"
  },
  "language_info": {
   "codemirror_mode": {
    "name": "ipython",
    "version": 3
   },
   "file_extension": ".py",
   "mimetype": "text/x-python",
   "name": "python",
   "nbconvert_exporter": "python",
   "pygments_lexer": "ipython3",
   "version": "3.8.3"
  }
 },
 "nbformat": 4,
 "nbformat_minor": 4
}
